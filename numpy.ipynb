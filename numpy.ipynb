{
 "cells": [
  {
   "cell_type": "code",
   "execution_count": null,
   "metadata": {
    "collapsed": true
   },
   "outputs": [],
   "source": [
    "import numpy as np"
   ]
  },
  {
   "cell_type": "markdown",
   "metadata": {},
   "source": [
    "### Tạo một mảng `numpy`\n",
    "Mảng `numpy` có thể là mảng một chiều (vector), ma trận (mảng hai chiều, matrix), và mảng đa chiều (từ 3 chiều trở lên). Một mảng có thể được hình thành từ một danh sách, một hàm, hoặc đọc từ file (phần tự tìm hiểu).\n",
    "#### Sử dụng danh sách"
   ]
  },
  {
   "cell_type": "code",
   "execution_count": null,
   "metadata": {},
   "outputs": [],
   "source": [
    "v = np.array([2, 0, 1, 7])\n",
    "m = np.array([[2, 0], [1, 7]])"
   ]
  },
  {
   "cell_type": "markdown",
   "metadata": {},
   "source": [
    "_Yêu cầu:_ Hãy thử in ra các giá trị của `v`, `m`, `type` của chúng, kiểu dữ liệu của các phần tử được lưu trong đó (thuộc tính `dtype`)"
   ]
  },
  {
   "cell_type": "code",
   "execution_count": null,
   "metadata": {
    "collapsed": true
   },
   "outputs": [],
   "source": [
    "# Code"
   ]
  },
  {
   "cell_type": "markdown",
   "metadata": {},
   "source": [
    "Mỗi một numpy array có _attribute_ là:\n",
    "- `shape` (hình dạng) mô tả kích thước mỗi chiều của array\n",
    "- `size` (kích thước) mô tả số phần tử của array\n",
    "- `dtype` kiểu dữ liệu của mỗi phần tử trong array\n",
    "\n",
    "Trong ví dụ trên chúng ta thử tạo một matrix `m` bằng một nested list `2 x 2`. Tuy nhiên sẽ như thế nào nếu chúng ta \"nhập thiếu\" một phần tử, khiến matrix có một \"lỗ hổng\"? Xem ví dụ sau:"
   ]
  },
  {
   "cell_type": "code",
   "execution_count": null,
   "metadata": {},
   "outputs": [],
   "source": [
    "m = np.array([[1], [2,3]])"
   ]
  },
  {
   "cell_type": "markdown",
   "metadata": {},
   "source": [
    "_Yêu cầu:_ Thử in ra `m` và kiểu phần tử của `m`. `numpy` đã làm gì để hợp thức hóa dữ liệu đưa vào luôn là một mảng đầy đủ?"
   ]
  },
  {
   "cell_type": "code",
   "execution_count": null,
   "metadata": {
    "collapsed": true
   },
   "outputs": [],
   "source": [
    "# Code"
   ]
  },
  {
   "cell_type": "markdown",
   "metadata": {},
   "source": [
    "Chúng ta có thể cố ý gán kiểu dữ liệu cho các phần tử của một array **từ lệnh khởi tạo**. Chẳng hạn như danh sách truyền vào gồm các số nguyên (int), nhưng bạn muốn array nhận dạng nó như là số thực (float):"
   ]
  },
  {
   "cell_type": "code",
   "execution_count": null,
   "metadata": {},
   "outputs": [],
   "source": [
    "m = np.array([[2, 0], [1, 7]], dtype=float)\n",
    "print(m)"
   ]
  },
  {
   "cell_type": "markdown",
   "metadata": {},
   "source": [
    "Sau bước khởi tạo, mọi thay đổi lên array gây ra mâu thuẫn với kiểu dữ liệu hiện tại sẽ gặp lỗi."
   ]
  },
  {
   "cell_type": "code",
   "execution_count": null,
   "metadata": {},
   "outputs": [],
   "source": [
    "m[0, 0] = 1 + 2j # Số phức gán vào phần tử số thực"
   ]
  },
  {
   "cell_type": "markdown",
   "metadata": {},
   "source": [
    "#### Sử dụng hàm\n",
    "Một array có thể được tạo nhanh bằng hàm có sẵn như:\n",
    "- `np.arange(begin, end, step)`: khá giống với hàm `range` đã giới thiệu.\n",
    "- `np.rand(shape)` và `np.randn(shape)`: sinh ngẫu nhiên các số thực. Về `randn` xem thêm tại https://docs.scipy.org/doc/numpy/reference/generated/numpy.random.randn.html\n",
    "- `np.diag(list, offset)`: tạo ma trận vuông với đường chéo cho trước bởi `list` sao cho đường chéo này lệnh với đường chéo chính một số bằng `offset`.\n",
    "- `np.zeros(shape)` và `np.ones(shape)`: array toàn 0 hoặc 1.\n",
    "- `np.linspace(begin, final, count)`: Sinh ra `count` phần tử trải dài từ `begin` đến `final` (bao gồm cả `final`)."
   ]
  },
  {
   "cell_type": "markdown",
   "metadata": {},
   "source": [
    "_Yêu cầu:_ Sử dụng các hàm nêu trên, hãy thử tạo ra các mảng sau:\n",
    "\n",
    "1. $\\begin{bmatrix}1 & 3 & 5 & 7 & 9\\end{bmatrix}$\n",
    "\n",
    "2. $\\begin{bmatrix}0 & 0 & 0 & 0\\\\1 & 0 & 0 & 0\\\\0 & 2 & 0 & 0\\\\0 & 0 & 3 & 0\\end{bmatrix}$"
   ]
  },
  {
   "cell_type": "code",
   "execution_count": null,
   "metadata": {
    "collapsed": true
   },
   "outputs": [],
   "source": [
    "# Code"
   ]
  },
  {
   "cell_type": "markdown",
   "metadata": {},
   "source": [
    "_Yêu cầu:_ Tạo ra một mảng gồm 10 phần tử trải đều từ số 0 đến số 5."
   ]
  },
  {
   "cell_type": "code",
   "execution_count": null,
   "metadata": {},
   "outputs": [],
   "source": [
    "# Code"
   ]
  },
  {
   "cell_type": "markdown",
   "metadata": {},
   "source": [
    "_Yêu cầu:_ Dùng một dòng lệnh để tạo ra một mảng `arr` $5\\times 5$ gồm các số $1,2,\\dots,25$ viết lần lượt từ trái sang phải, từ trên xuống dưới.\n",
    "\n",
    "$\\begin{bmatrix}1 & 2 & 3 & 4 & 5\\\\6 & 7 & 8 & 9 & 10\\\\11 & 12 & 13 & 14 & 15\\\\\\dots\\\\\\dots\\end{bmatrix}$"
   ]
  },
  {
   "cell_type": "code",
   "execution_count": null,
   "metadata": {},
   "outputs": [],
   "source": [
    "# Code"
   ]
  },
  {
   "cell_type": "markdown",
   "metadata": {},
   "source": [
    "### Thêm cột hoặc hàng vào `numpy` array\n",
    "Bạn đọc tự nghiên cứu thêm tại https://stackoverflow.com/a/8505658/6543459."
   ]
  },
  {
   "cell_type": "markdown",
   "metadata": {},
   "source": [
    "### Truy xuất phần tử trong `numpy` array\n",
    "Trong list từ 2 chiều trở lên (nested list), để gọi một phần tử chúng ta phải cung cấp từng chỉ số theo kiểu `list[1][2]...`, nhưng đối với `numpy` array, công việc trở nên gọn hơn một tí: `array[1, 2, ...]`.\n",
    "\n",
    "Ngoài ra, thay vì đưa vào các chỉ số như 1 hoặc 2, `numpy` array còn nhận chỉ số dạng 1 list và ghép kết quả lại với nhau. Ví dụ sau lần lượt chọn ra các phần tử `arr[2, 1], arr[0, 2], arr[4, 0]`:"
   ]
  },
  {
   "cell_type": "code",
   "execution_count": null,
   "metadata": {},
   "outputs": [],
   "source": [
    "row_indices = [2, 0, 4]\n",
    "col_indices = [1, 2, 0]\n",
    "arr[row_indices, col_indices]"
   ]
  },
  {
   "cell_type": "markdown",
   "metadata": {},
   "source": [
    "Hoặc có thể chọn ra các dòng/cột rời rạc rồi ghép lại với nhau thành một array mới:"
   ]
  },
  {
   "cell_type": "code",
   "execution_count": null,
   "metadata": {},
   "outputs": [],
   "source": [
    "arr[row_indices]"
   ]
  },
  {
   "cell_type": "markdown",
   "metadata": {},
   "source": [
    "_Câu hỏi:_ Nối tiếp đoạn code trên, dự đoán kết quả của `arr[row_indices][col_indices]`"
   ]
  },
  {
   "cell_type": "code",
   "execution_count": null,
   "metadata": {
    "collapsed": true
   },
   "outputs": [],
   "source": [
    "# Code"
   ]
  },
  {
   "cell_type": "markdown",
   "metadata": {},
   "source": [
    "\n",
    "\n",
    "### Cắt mảng (slice)\n",
    "Cách cắt `numpy` vector không quá khác biệt so với `list`. Nhưng cần chú ý về mảng đa chiều. Giả sử muốn lấy một hình vuông `3x3` từ mảng `arr` có ô trái trên là ô `[1,2]` (số 7)."
   ]
  },
  {
   "cell_type": "code",
   "execution_count": null,
   "metadata": {},
   "outputs": [],
   "source": [
    "arr[1:4, 2:5]"
   ]
  },
  {
   "cell_type": "code",
   "execution_count": null,
   "metadata": {},
   "outputs": [],
   "source": [
    "nested_list[1:4][2:5]"
   ]
  },
  {
   "cell_type": "markdown",
   "metadata": {},
   "source": [
    "_Câu hỏi:_ Giải thích vì sao cắt `nested_list` không cho ra một mảng vuông như mong đợi?"
   ]
  },
  {
   "cell_type": "markdown",
   "metadata": {},
   "source": [
    "### Đại số tuyến tính"
   ]
  },
  {
   "cell_type": "markdown",
   "metadata": {},
   "source": [
    "#### Cộng, trừ, nhân, chia một mảng với một số\n",
    "Khi đó mỗi phần tử của mảng sẽ bị cộng, trừ, nhân, chia với số đó.\n",
    "\n",
    "#### Cộng, trừ, nhân, chia một mảng với một mảng thích hợp (Element-wise operations)\n",
    "Nếu `shape` của hai mảng như nhau thì phép toán được áp dụng giữa hai phần tử cùng vị trí. Còn nhiều cách khác để `numpy` nhận dạng độ thích hợp giữa hai mảng và thực hiện phép toán. Hãy thử chạy các đoạn code sau và xem kết quả."
   ]
  },
  {
   "cell_type": "code",
   "execution_count": null,
   "metadata": {},
   "outputs": [],
   "source": [
    "arr"
   ]
  },
  {
   "cell_type": "code",
   "execution_count": null,
   "metadata": {},
   "outputs": [],
   "source": [
    "arr * arr"
   ]
  },
  {
   "cell_type": "markdown",
   "metadata": {},
   "source": [
    "Trên mỗi hàng, từ trái sang các phần tử lần lượt nhân với 1, 2, 3, 4, 5."
   ]
  },
  {
   "cell_type": "code",
   "execution_count": null,
   "metadata": {},
   "outputs": [],
   "source": [
    "arr * np.array([1, 2, 3, 4, 5])"
   ]
  },
  {
   "cell_type": "markdown",
   "metadata": {},
   "source": [
    "Trên mỗi cột, từ trên xuống các phần tử lần lượt nhân với 1, 2, 3, 4, 5."
   ]
  },
  {
   "cell_type": "code",
   "execution_count": null,
   "metadata": {
    "scrolled": true
   },
   "outputs": [],
   "source": [
    "arr * np.array([[1], [2], [3], [4], [5]])"
   ]
  },
  {
   "cell_type": "markdown",
   "metadata": {},
   "source": [
    "### Ma trận"
   ]
  },
  {
   "cell_type": "markdown",
   "metadata": {},
   "source": [
    "Mặc dù đã thảo luận nhiều về ma trận qua các array hai chiều, chúng ta vẫn chưa sử dụng đến lớp `matrix` trong thư viện `numpy` mạnh mẽ này. Khi đã có sẵn array hai chiều, chỉ cần truyền nó vào hàm khởi tạo ma trận là được. Hoặc cũng có thể truyền list / nested-list vào cũng được\n",
    "\n",
    "Khi đang ở kiểu dữ liệu `matrix`, các phép toán cộng, trừ, nhân, chia được thay đổi để phù hợp các phép toán ma trận mà bạn được học."
   ]
  },
  {
   "cell_type": "code",
   "execution_count": null,
   "metadata": {},
   "outputs": [],
   "source": [
    "M = np.matrix(arr) # Dùng np.array để khởi tạo\n",
    "M*M"
   ]
  },
  {
   "cell_type": "markdown",
   "metadata": {},
   "source": [
    "Ma trận `M` được tạo từ np.array `arr` nhưng kết quả của `M*M` khác so với `arr*arr` ở phần trước. Đó là vì `M*M` là nhân ma trận, còn `arr*arr` là nhân theo kiểu element-wise.\n",
    "\n",
    "Tất nhiên nếu hai ma trận nhân với nhau mà không có số cột và dòng tương thích thì sẽ sinh ra lỗi.\n",
    "\n",
    "Ngoài ra, thư viện `numpy` giúp chúng ta tính ma trận chuyển vị và ma trận nghịch đảo thông qua thuộc tính `T` (hoặc hàm `np.matrix.transpose(Matrix)`) và thuộc tính `I` (hoặc hàm `np.matrix.inverse(Matrix)`)."
   ]
  },
  {
   "cell_type": "code",
   "execution_count": null,
   "metadata": {},
   "outputs": [],
   "source": [
    "M2 = M[0:3, 1:3]\n",
    "M2"
   ]
  },
  {
   "cell_type": "code",
   "execution_count": null,
   "metadata": {},
   "outputs": [],
   "source": [
    "M2.T"
   ]
  },
  {
   "cell_type": "code",
   "execution_count": null,
   "metadata": {},
   "outputs": [],
   "source": [
    "M2.I"
   ]
  },
  {
   "cell_type": "markdown",
   "metadata": {},
   "source": [
    "Tính định thức ma trận:"
   ]
  },
  {
   "cell_type": "code",
   "execution_count": null,
   "metadata": {},
   "outputs": [],
   "source": [
    "print(M[0:2, 0:2])\n",
    "np.linalg.det(M[0:2, 0:2])"
   ]
  },
  {
   "cell_type": "markdown",
   "metadata": {},
   "source": [
    "### Ma trận số phức"
   ]
  },
  {
   "cell_type": "markdown",
   "metadata": {},
   "source": [
    "`numpy` hỗ trợ thêm các hàm nhận một ma trận số phức như `np.matrix.conjugate` (lấy số phức liên hợp), `np.real` (lấy phần thực), `np.imag` (lấy phần ảo), `np.angle` (lấy argument). Các bạn tự tìm hiểu thêm."
   ]
  },
  {
   "cell_type": "markdown",
   "metadata": {},
   "source": [
    "### Thống kê"
   ]
  },
  {
   "cell_type": "code",
   "execution_count": null,
   "metadata": {},
   "outputs": [],
   "source": [
    "data = np.random.randn(20)\n",
    "data"
   ]
  },
  {
   "cell_type": "markdown",
   "metadata": {},
   "source": [
    "- `np.var`: Phương sai (variance)\n",
    "- `np.std`: Độ lệch chuẩn (standard deviation)\n",
    "- `np.min`: Giá trị nhỏ nhất\n",
    "- `np.max`: Giá trị lớn nhất\n",
    "- `np.mean`: Giá trị trung bình"
   ]
  },
  {
   "cell_type": "code",
   "execution_count": null,
   "metadata": {},
   "outputs": [],
   "source": [
    "print(np.var(data))\n",
    "print(np.std(data))\n",
    "print(np.min(data))\n",
    "print(np.max(data))\n",
    "print(np.mean(data))"
   ]
  },
  {
   "cell_type": "markdown",
   "metadata": {},
   "source": [
    "- Kiểm tra có ít nhất một (any) hoặc tất cả (all) các phần tử trong array có thỏa điều kiện cho trước hay không"
   ]
  },
  {
   "cell_type": "code",
   "execution_count": null,
   "metadata": {},
   "outputs": [],
   "source": [
    "print((data > 2).any())\n",
    "print((data < 5).all())"
   ]
  },
  {
   "cell_type": "markdown",
   "metadata": {},
   "source": [
    "- Chọn ra một vài phần tử thỏa mãn điều kiện bằng cách dùng \"mặt nạ\" theo cú pháp: `data[bool_array]`. Ví dụ cần chọn ra các số lớn hơn 0 và nhỏ hơn 1 trong `data`:"
   ]
  },
  {
   "cell_type": "code",
   "execution_count": null,
   "metadata": {},
   "outputs": [],
   "source": [
    "mask = (data > 0) * (data < 1)\n",
    "data[mask]"
   ]
  },
  {
   "cell_type": "markdown",
   "metadata": {},
   "source": [
    "_Câu hỏi:_ Giải thích cách làm trên."
   ]
  },
  {
   "cell_type": "markdown",
   "metadata": {},
   "source": [
    "### Pass by reference"
   ]
  },
  {
   "cell_type": "markdown",
   "metadata": {},
   "source": [
    "Khi \"sao chép\" một biến B sang một biến A khác, để tiếp kiệm bộ nhớ, Python không hoàn toàn cấp cho A một khoảng bộ nhớ cần thiết cho dữ liệu mà chỉ đưa cho A địa chỉ tham chiếu (reference) của B. Do đó việc thay đổi biến A sẽ thay đổi biến B và ngược lại."
   ]
  },
  {
   "cell_type": "code",
   "execution_count": null,
   "metadata": {},
   "outputs": [],
   "source": [
    "v = np.array([1,2,3,4,5])\n",
    "print(v)\n",
    "copy_v = v\n",
    "copy_v[0] = 7\n",
    "print(v)"
   ]
  }
 ],
 "metadata": {
  "kernelspec": {
   "display_name": "Python 3",
   "language": "python",
   "name": "python3"
  },
  "language_info": {
   "codemirror_mode": {
    "name": "ipython",
    "version": 3
   },
   "file_extension": ".py",
   "mimetype": "text/x-python",
   "name": "python",
   "nbconvert_exporter": "python",
   "pygments_lexer": "ipython3",
   "version": "3.6.0"
  }
 },
 "nbformat": 4,
 "nbformat_minor": 2
}
