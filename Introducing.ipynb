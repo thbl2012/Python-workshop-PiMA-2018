{
 "cells": [
  {
   "cell_type": "markdown",
   "metadata": {},
   "source": [
    "## Các kiểu dữ liệu"
   ]
  },
  {
   "cell_type": "markdown",
   "metadata": {},
   "source": [
    "### Số nguyên"
   ]
  },
  {
   "cell_type": "code",
   "execution_count": 1,
   "metadata": {},
   "outputs": [
    {
     "name": "stdout",
     "output_type": "stream",
     "text": [
      "<class 'int'>\n"
     ]
    }
   ],
   "source": [
    "x = 20\n",
    "print(type(x))"
   ]
  },
  {
   "cell_type": "markdown",
   "metadata": {},
   "source": [
    "### Số thực"
   ]
  },
  {
   "cell_type": "code",
   "execution_count": 2,
   "metadata": {},
   "outputs": [
    {
     "name": "stdout",
     "output_type": "stream",
     "text": [
      "<class 'float'>\n"
     ]
    }
   ],
   "source": [
    "x = 17.0\n",
    "print(type(x))"
   ]
  },
  {
   "cell_type": "markdown",
   "metadata": {},
   "source": [
    "### Số phức"
   ]
  },
  {
   "cell_type": "code",
   "execution_count": 3,
   "metadata": {},
   "outputs": [
    {
     "name": "stdout",
     "output_type": "stream",
     "text": [
      "<class 'complex'>\n",
      "(20+17j)\n",
      "20.0 17.0\n"
     ]
    }
   ],
   "source": [
    "x = 20 + 17j\n",
    "print(type(x))\n",
    "print(x)\n",
    "print(x.real, x.imag)"
   ]
  },
  {
   "cell_type": "markdown",
   "metadata": {},
   "source": [
    "### Logic"
   ]
  },
  {
   "cell_type": "code",
   "execution_count": 4,
   "metadata": {},
   "outputs": [
    {
     "name": "stdout",
     "output_type": "stream",
     "text": [
      "<class 'bool'>\n"
     ]
    }
   ],
   "source": [
    "x = True\n",
    "print(type(x))"
   ]
  },
  {
   "cell_type": "markdown",
   "metadata": {},
   "source": [
    "### Chuỗi"
   ]
  },
  {
   "cell_type": "markdown",
   "metadata": {},
   "source": [
    "Chuỗi là cấu trúc lưu dữ liệu dạng văn bản (như tin nhắn chẳng hạn). Một chuỗi có thể được gói giữa hai ký tự nháy kép (`\"string\"`) hoặc nháy đơn (`'string'`). Khi sử dụng nháy kép thì bên trong chuỗi có thể viết dấu nháy đơn dễ dàng hơn."
   ]
  },
  {
   "cell_type": "code",
   "execution_count": 5,
   "metadata": {},
   "outputs": [
    {
     "name": "stdout",
     "output_type": "stream",
     "text": [
      "<class 'str'>\n"
     ]
    }
   ],
   "source": [
    "x = \"PiMA 2017 'Math Modelling'\"\n",
    "print(type(x))"
   ]
  },
  {
   "cell_type": "markdown",
   "metadata": {},
   "source": [
    "### Danh sách"
   ]
  },
  {
   "cell_type": "code",
   "execution_count": 6,
   "metadata": {},
   "outputs": [
    {
     "name": "stdout",
     "output_type": "stream",
     "text": [
      "<class 'list'>\n"
     ]
    }
   ],
   "source": [
    "x = [1, 2, 3, 4]\n",
    "print(type(x))"
   ]
  },
  {
   "cell_type": "markdown",
   "metadata": {},
   "source": [
    "Một danh sách có thể bao gồm danh sách khác (nested list), các phần tử của một danh sách có thể thuộc nhiều lớp dữ liệu khác nhau."
   ]
  },
  {
   "cell_type": "code",
   "execution_count": 7,
   "metadata": {},
   "outputs": [
    {
     "name": "stdout",
     "output_type": "stream",
     "text": [
      "<class 'list'>\n"
     ]
    }
   ],
   "source": [
    "x = [[1, 2], [3, 4]] # Ma trận 2x2\n",
    "x = [[1.0, 2], 3 + 4j, [5, 6]]\n",
    "print(type(x))"
   ]
  },
  {
   "cell_type": "markdown",
   "metadata": {},
   "source": [
    "### Từ điển"
   ]
  },
  {
   "cell_type": "code",
   "execution_count": 8,
   "metadata": {},
   "outputs": [
    {
     "name": "stdout",
     "output_type": "stream",
     "text": [
      "<class 'dict'>\n",
      "{'P': 'Project', 'i': 'in', 'M': 'Mathematics', 'A': 'Applications'}\n"
     ]
    }
   ],
   "source": [
    "x = {\"P\": \"Project\",\n",
    "     \"i\": \"in\",\n",
    "     \"M\": \"Mathematics\",\n",
    "     \"A\": \"Applications\"}\n",
    "print(type(x))\n",
    "print(x)"
   ]
  },
  {
   "cell_type": "markdown",
   "metadata": {},
   "source": [
    "### Tuple\n",
    "Trong Python, khi nhóm các giá trị lại với nhau thành cụm sẽ gọi là `tuple`. Ví dụ như mỗi điểm trong không gian Oxyz được biểu diễn bằng ba giá trị $(x; y; z)$ có thể được biểu diễn dạng tuple."
   ]
  },
  {
   "cell_type": "code",
   "execution_count": 9,
   "metadata": {},
   "outputs": [
    {
     "name": "stdout",
     "output_type": "stream",
     "text": [
      "<class 'tuple'>\n",
      "1 2 3\n",
      "2 1\n"
     ]
    }
   ],
   "source": [
    "point = (1, 2, 3)\n",
    "print(type(point))\n",
    "x, y, z = point # Lấy ra giá trị từ tuple\n",
    "print(x, y, z)\n",
    "y, x = x, y # Hoán đổi giá trị biến bằng tuple\n",
    "print(x, y)"
   ]
  },
  {
   "cell_type": "markdown",
   "metadata": {},
   "source": [
    "## Ép kiểu"
   ]
  },
  {
   "cell_type": "markdown",
   "metadata": {},
   "source": [
    "Để \"ép\" một biến `var` từ kiểu `type1` sang một kiểu dữ liệu khác `type2` có thể làm cú pháp như sau: `type2(var)`"
   ]
  },
  {
   "cell_type": "code",
   "execution_count": 10,
   "metadata": {},
   "outputs": [
    {
     "name": "stdout",
     "output_type": "stream",
     "text": [
      "(17+0j) <class 'complex'>\n",
      "5 <class 'int'>\n"
     ]
    }
   ],
   "source": [
    "x = 17\n",
    "y = complex(x)\n",
    "print(y, type(y))\n",
    "x = 5.3\n",
    "y = int(x)\n",
    "print(y, type(y))"
   ]
  },
  {
   "cell_type": "markdown",
   "metadata": {},
   "source": [
    "Tuy nhiên biến kiểu complex không thể chuyển sang float được mà phải được lấy riêng phần thực và phần ảo."
   ]
  },
  {
   "cell_type": "code",
   "execution_count": 11,
   "metadata": {},
   "outputs": [
    {
     "name": "stdout",
     "output_type": "stream",
     "text": [
      "20.0 17\n"
     ]
    }
   ],
   "source": [
    "x = 20 + 17j\n",
    "a = float(x.real)\n",
    "b = int(x.imag)\n",
    "print(a, b)"
   ]
  },
  {
   "cell_type": "markdown",
   "metadata": {},
   "source": [
    "Biến kiểu string, tuple, và hàm `range(begin, end, step)` có thể được ép sang kiểu list."
   ]
  },
  {
   "cell_type": "code",
   "execution_count": 12,
   "metadata": {},
   "outputs": [
    {
     "name": "stdout",
     "output_type": "stream",
     "text": [
      "['P', 'i', 'M', 'A']\n",
      "range(1, 7, 2)\n",
      "[1, 3, 5]\n"
     ]
    }
   ],
   "source": [
    "x = \"PiMA\"\n",
    "print(list(x))\n",
    "print(range(1, 7, 2))\n",
    "print(list(range(1, 7, 2)))"
   ]
  },
  {
   "cell_type": "code",
   "execution_count": 13,
   "metadata": {},
   "outputs": [
    {
     "name": "stdout",
     "output_type": "stream",
     "text": [
      "(1, 2, 3)\n",
      "[1, 2, 3]\n"
     ]
    }
   ],
   "source": [
    "print(point)\n",
    "print(list(point))"
   ]
  },
  {
   "cell_type": "markdown",
   "metadata": {},
   "source": [
    "Và ngược lại:"
   ]
  },
  {
   "cell_type": "code",
   "execution_count": 14,
   "metadata": {},
   "outputs": [
    {
     "name": "stdout",
     "output_type": "stream",
     "text": [
      "(4, 5, 6)\n"
     ]
    }
   ],
   "source": [
    "print(tuple([4,5,6]))"
   ]
  },
  {
   "cell_type": "markdown",
   "metadata": {},
   "source": [
    "Các bạn hãy tự thử nghiệm thêm."
   ]
  },
  {
   "cell_type": "markdown",
   "metadata": {},
   "source": [
    "## Phép toán"
   ]
  },
  {
   "cell_type": "markdown",
   "metadata": {},
   "source": [
    "Python hỗ trợ các phép toán `+, -, *, /` (chia lấy kết quả float), `//` (chia lấy phần nguyên, kết quả int), `**` (lên lũy thừa).\n",
    "\n",
    "Các phép biến đổi bit: `&` (AND), `|` (OR), `^` (XOR).\n",
    "\n",
    "Đối với biến logic có `and`, `or`, `not`.\n",
    "\n",
    "Các phép toán so sánh `<` (nhỏ hơn), `>` (lớn hơn), `<=` (nhỏ hơn hoặc bằng), `>=` (lớn hơn hoặc bằng), `==` (bằng)"
   ]
  },
  {
   "cell_type": "markdown",
   "metadata": {},
   "source": [
    "### Danh sách"
   ]
  },
  {
   "cell_type": "markdown",
   "metadata": {},
   "source": [
    "Các thao tác cơ bản cho danh sách bao gồm:"
   ]
  },
  {
   "cell_type": "markdown",
   "metadata": {},
   "source": [
    "- Thêm phần tử vào cuối list (`append`)"
   ]
  },
  {
   "cell_type": "code",
   "execution_count": 15,
   "metadata": {},
   "outputs": [
    {
     "name": "stdout",
     "output_type": "stream",
     "text": [
      "['M', 't', 'h', 'e', 'm', 'm', 'a', 't', 'i', 'c']\n",
      "['M', 't', 'h', 'e', 'm', 'm', 'a', 't', 'i', 'c', 's'] 11\n"
     ]
    }
   ],
   "source": [
    "x = \"Mthemmatic\"\n",
    "x = list(x)\n",
    "print(x)\n",
    "x.append('s')\n",
    "print(x, len(x))"
   ]
  },
  {
   "cell_type": "markdown",
   "metadata": {},
   "source": [
    "- Truy cập phần tử\n",
    "\n",
    "Các phần tử trong list có thể được gọi dựa vào chỉ số (index) hay còn gọi là thứ tự của nó trong danh sách. Trong một list, phần tử đầu tiên có chỉ số là 0."
   ]
  },
  {
   "cell_type": "code",
   "execution_count": 16,
   "metadata": {},
   "outputs": [
    {
     "name": "stdout",
     "output_type": "stream",
     "text": [
      "M\n"
     ]
    }
   ],
   "source": [
    "print(x[0])"
   ]
  },
  {
   "cell_type": "markdown",
   "metadata": {},
   "source": [
    "Một list còn có thể được truy cập thông qua một chỉ số âm. Đối với chỉ số âm, phần tử cuối cùng trong danh sách được đánh số -1, phần tử liền trước có chỉ số nhỏ hơn 1 đơn vị so với phần tử liền sau. Xem ví dụ:"
   ]
  },
  {
   "cell_type": "code",
   "execution_count": 17,
   "metadata": {},
   "outputs": [
    {
     "name": "stdout",
     "output_type": "stream",
     "text": [
      "['M', 't', 'h', 'e', 'm', 'm', 'a', 't', 'i', 'c', 's']\n",
      "s\n",
      "c\n"
     ]
    }
   ],
   "source": [
    "print(x)\n",
    "print(x[-1])\n",
    "print(x[-2])"
   ]
  },
  {
   "cell_type": "markdown",
   "metadata": {},
   "source": [
    "- Chèn phần tử vào một vị trí bất kỳ trong list (`insert`)"
   ]
  },
  {
   "cell_type": "code",
   "execution_count": 18,
   "metadata": {
    "scrolled": true
   },
   "outputs": [
    {
     "name": "stdout",
     "output_type": "stream",
     "text": [
      "['M', 'a', 't', 'h', 'e', 'm', 'm', 'a', 't', 'i', 'c', 's']\n"
     ]
    }
   ],
   "source": [
    "x.insert(1, 'a')\n",
    "print(x)"
   ]
  },
  {
   "cell_type": "markdown",
   "metadata": {},
   "source": [
    "- Xóa phần tử ở một vị trí bất kỳ (`del`)"
   ]
  },
  {
   "cell_type": "code",
   "execution_count": 19,
   "metadata": {},
   "outputs": [
    {
     "name": "stdout",
     "output_type": "stream",
     "text": [
      "['M', 'a', 't', 'h', 'e', 'm', 'a', 't', 'i', 'c', 's']\n"
     ]
    }
   ],
   "source": [
    "del(x[5])\n",
    "print(x)"
   ]
  },
  {
   "cell_type": "markdown",
   "metadata": {},
   "source": [
    "- Xóa phần tử đầu tiên mang giá trị cho trước (`remove`)."
   ]
  },
  {
   "cell_type": "code",
   "execution_count": 20,
   "metadata": {},
   "outputs": [
    {
     "name": "stdout",
     "output_type": "stream",
     "text": [
      "['M', 't', 'h', 'e', 'm', 'a', 't', 'i', 'c', 's']\n"
     ]
    }
   ],
   "source": [
    "x.remove('a')\n",
    "print(x)"
   ]
  },
  {
   "cell_type": "markdown",
   "metadata": {},
   "source": [
    "- Sắp xếp theo thứ tự tăng dần (`sort`)"
   ]
  },
  {
   "cell_type": "code",
   "execution_count": 21,
   "metadata": {},
   "outputs": [
    {
     "name": "stdout",
     "output_type": "stream",
     "text": [
      "['M', 'a', 'c', 'e', 'h', 'i', 'm', 's', 't', 't']\n"
     ]
    }
   ],
   "source": [
    "x.sort()\n",
    "print(x)"
   ]
  },
  {
   "cell_type": "markdown",
   "metadata": {},
   "source": [
    "- Cắt danh sách (slice) theo cú pháp `[begin : end : step]`.\n",
    "    - `begin` mặc định là 0, `end` mặc định là độ dài của list, `step` mặc định là 1.\n",
    "    - Nếu cho `begin` là số âm thì `end` mặc định là 0.\n",
    "    - Nếu cho `end` là số âm thì `begin` mặc định là `-len(list)`.\n",
    "    - Nếu cho `step` là số âm thì mặc định `begin = len(list)-1` và `end = 0`.\n",
    "    - ...\n",
    "\n",
    "Các bạn có thể thoải mái khám phá thử nghiệm về trò chơi cắt mảng này."
   ]
  },
  {
   "cell_type": "code",
   "execution_count": 22,
   "metadata": {},
   "outputs": [
    {
     "name": "stdout",
     "output_type": "stream",
     "text": [
      "['c', 'e', 'h']\n",
      "['M', 'a', 'c', 'e', 'h']\n",
      "['i', 'm', 's', 't', 't']\n",
      "['t', 't', 's', 'm', 'i', 'h', 'e', 'c', 'a', 'M']\n",
      "['s', 't', 't']\n",
      "['M', 'a', 'c', 'e', 'h', 'i']\n"
     ]
    }
   ],
   "source": [
    "print(x[2:5])\n",
    "print(x[:5])\n",
    "print(x[5:])\n",
    "print(x[::-1])\n",
    "print(x[-3:])\n",
    "print(x[:-4])"
   ]
  },
  {
   "cell_type": "markdown",
   "metadata": {},
   "source": [
    "### Chuỗi"
   ]
  },
  {
   "cell_type": "markdown",
   "metadata": {},
   "source": [
    "Chuỗi cũng có thao tác slice giống như list. Ngoài ra chuỗi có các hàm:"
   ]
  },
  {
   "cell_type": "markdown",
   "metadata": {},
   "source": [
    "- Thay thế một chuỗi con"
   ]
  },
  {
   "cell_type": "code",
   "execution_count": 23,
   "metadata": {},
   "outputs": [
    {
     "name": "stdout",
     "output_type": "stream",
     "text": [
      "PiMA 2xxx\n",
      "PiMA 2017\n"
     ]
    }
   ],
   "source": [
    "x = \"PiMA 2xxx\"\n",
    "x.replace(\"xxx\", \"017\")\n",
    "print(x)\n",
    "x = x.replace(\"xxx\", \"017\")\n",
    "print(x)"
   ]
  },
  {
   "cell_type": "markdown",
   "metadata": {},
   "source": [
    "- Format chuỗi (đưa các dữ liệu khác vào giữa chuỗi theo kiểu C/C++)"
   ]
  },
  {
   "cell_type": "code",
   "execution_count": 24,
   "metadata": {},
   "outputs": [
    {
     "name": "stdout",
     "output_type": "stream",
     "text": [
      "PiMA 2017\n",
      "Pi = %.2f 3.1415\n",
      "Mathematics, 2017\n",
      "MathModelling\n",
      "Math Modelling 2017\n"
     ]
    }
   ],
   "source": [
    "x = \"PiMA %d\" % (2017) # %d là số nguyên\n",
    "print(x)\n",
    "print(\"Pi = %.2f\", 3.1415) # Làm tròn 2 chữ số thập phân\n",
    "print(\"{0}, {1}\".format(\"Mathematics\", 2017))\n",
    "print(\"Math\" + \"Modelling\") # Cộng chuỗi bằng phép tính\n",
    "print(\"Math\", \"Modelling\", 2017) # Tự chèn khoảng cách"
   ]
  },
  {
   "cell_type": "markdown",
   "metadata": {},
   "source": [
    "### Từ điển"
   ]
  },
  {
   "cell_type": "markdown",
   "metadata": {},
   "source": [
    "Khi gọi một phần tử trong danh sách ta dùng chỉ số của phần tử (e.g. `x[5]`). Tương tự trong từ điển, để tìm một giá trị (value) ta dùng khóa (key). Quan hệ key-value giống với ánh xạ trong toán học. Để thêm một \"định nghĩa\" mới (một bộ key-value mới) ta có thể thoải mái \"gán\" (assign) mà không cần qua thao tác nào."
   ]
  },
  {
   "cell_type": "code",
   "execution_count": 25,
   "metadata": {
    "scrolled": true
   },
   "outputs": [
    {
     "name": "stdout",
     "output_type": "stream",
     "text": [
      "M stands for Mathematics\n",
      "{'P': 'Project', 'i': 'in', 'M': 'Mathematics', 'A': 'Applications', '2017': 'the year PiMA was held'}\n"
     ]
    }
   ],
   "source": [
    "x = {\"P\": \"Project\",\n",
    "     \"i\": \"in\",\n",
    "     \"M\": \"Mathematics\",\n",
    "     \"A\": \"Applications\"}\n",
    "print(\"M stands for\", x[\"M\"])\n",
    "x[\"2017\"] = \"the year PiMA was held\"\n",
    "print(x)"
   ]
  },
  {
   "cell_type": "markdown",
   "metadata": {},
   "source": [
    "### Tuple"
   ]
  },
  {
   "cell_type": "markdown",
   "metadata": {},
   "source": [
    "Có thể truy xuất từng phần tử của tuple qua thứ tự xuất hiện của nó giống như chúng ta làm ở list."
   ]
  },
  {
   "cell_type": "code",
   "execution_count": 26,
   "metadata": {},
   "outputs": [
    {
     "name": "stdout",
     "output_type": "stream",
     "text": [
      "(1, 2, 3)\n",
      "1\n"
     ]
    }
   ],
   "source": [
    "print(point)\n",
    "print(point[0])"
   ]
  },
  {
   "cell_type": "markdown",
   "metadata": {},
   "source": [
    "## Vòng lặp và rẽ nhánh\n",
    "### `for`\n",
    "Về cơ bản, câu lệnh lặp `for` sẽ có cú pháp `for <object> in <list-alike>`. Trong đó `list-alike` có thể là hàm `items` của một dict, có thể là hàm `range`, hoặc một list, hoặc một chuỗi, etc."
   ]
  },
  {
   "cell_type": "code",
   "execution_count": 27,
   "metadata": {},
   "outputs": [
    {
     "name": "stdout",
     "output_type": "stream",
     "text": [
      "2\n",
      "0\n",
      "1\n",
      "7\n"
     ]
    }
   ],
   "source": [
    "l = [2, 0, 1, 7]\n",
    "for element in l:\n",
    "    print(element)"
   ]
  },
  {
   "cell_type": "code",
   "execution_count": 28,
   "metadata": {},
   "outputs": [
    {
     "name": "stdout",
     "output_type": "stream",
     "text": [
      "P --> Project\n",
      "i --> in\n",
      "M --> Mathematics\n",
      "A --> Applications\n",
      "2017 --> the year PiMA was held\n"
     ]
    }
   ],
   "source": [
    "for key, value in x.items():\n",
    "    print(key, \"-->\", value)"
   ]
  },
  {
   "cell_type": "code",
   "execution_count": 29,
   "metadata": {},
   "outputs": [
    {
     "name": "stdout",
     "output_type": "stream",
     "text": [
      "1\n",
      "3\n"
     ]
    }
   ],
   "source": [
    "for i in range(1, 5, 2):\n",
    "    print(i)"
   ]
  },
  {
   "cell_type": "code",
   "execution_count": 30,
   "metadata": {},
   "outputs": [
    {
     "name": "stdout",
     "output_type": "stream",
     "text": [
      "(0, 2)\n",
      "(1, 0)\n",
      "(2, 1)\n",
      "(3, 7)\n"
     ]
    }
   ],
   "source": [
    "for i in enumerate(l):\n",
    "    print(i)"
   ]
  },
  {
   "cell_type": "markdown",
   "metadata": {},
   "source": [
    "Ở trên, không có lỗi xảy ra nghĩa là các vòng lặp viết đúng cú pháp. Tuy vậy, để ý rằng tôi có sử dụng lệnh `pass` để bỏ qua nội dung của dòng `for` (tương tự với `while`, `if`, hay bất cứ câu lệnh nào đòi hỏi một đoạn chương trình theo sau).\n",
    "### `while`\n",
    "Câu lệnh `while` có cú pháp `while <conditions>: <statements>`. Trong đó `conditions` có thể là một hoặc nhiều điều kiện ghép nhau bằng `and`, `or`, `not`. Ví dụ sau liệt kê các số chính phương nhỏ hơn 10."
   ]
  },
  {
   "cell_type": "code",
   "execution_count": 31,
   "metadata": {},
   "outputs": [
    {
     "name": "stdout",
     "output_type": "stream",
     "text": [
      "1\n",
      "4\n",
      "9\n"
     ]
    }
   ],
   "source": [
    "i = 1\n",
    "while (i**2 < 10):\n",
    "    print(i**2)\n",
    "    i += 1"
   ]
  },
  {
   "cell_type": "markdown",
   "metadata": {},
   "source": [
    "### if\n",
    "Câu lệnh `if` có cú pháp như sau:\n",
    "```\n",
    "if <conditions>:\n",
    "    <statements>\n",
    "else:\n",
    "    <statements>\n",
    "```\n",
    "Giả sử sau câu lệnh `else:` còn phải xét thêm điều kiện khác nữa thì có thể thay bằng `elif <conditions:`."
   ]
  },
  {
   "cell_type": "code",
   "execution_count": 32,
   "metadata": {},
   "outputs": [
    {
     "name": "stdout",
     "output_type": "stream",
     "text": [
      "bigger\n"
     ]
    }
   ],
   "source": [
    "x = [1,2]\n",
    "y = [0,3]\n",
    "if x > y:\n",
    "    print(\"bigger\")\n",
    "elif x < y:\n",
    "    print(\"smaller\")\n",
    "elif x == y:\n",
    "    print(\"equal\")\n",
    "else:\n",
    "    pass # ???"
   ]
  },
  {
   "cell_type": "markdown",
   "metadata": {},
   "source": [
    "## Hàm (function)\n",
    "Để khai báo một hàm, dùng cú pháp:"
   ]
  },
  {
   "cell_type": "code",
   "execution_count": 33,
   "metadata": {
    "collapsed": true
   },
   "outputs": [],
   "source": [
    "def f(param1, param2=0):\n",
    "    return param1 + param2 * 0.5"
   ]
  },
  {
   "cell_type": "markdown",
   "metadata": {},
   "source": [
    "Hàm `f` trên lấy hai tham số, trong đó tham số thứ hai (`param2`) có giá trị mặc định là 0. Lưu ý rằng các tham số có giá trị mặc định phải chuyển ra sau cùng trong danh sách tham số."
   ]
  },
  {
   "cell_type": "code",
   "execution_count": 34,
   "metadata": {},
   "outputs": [
    {
     "ename": "SyntaxError",
     "evalue": "non-default argument follows default argument (<ipython-input-34-9ce5ec1e6ed1>, line 1)",
     "output_type": "error",
     "traceback": [
      "\u001b[0;36m  File \u001b[0;32m\"<ipython-input-34-9ce5ec1e6ed1>\"\u001b[0;36m, line \u001b[0;32m1\u001b[0m\n\u001b[0;31m    def f2(param1=0, param2):\u001b[0m\n\u001b[0m          ^\u001b[0m\n\u001b[0;31mSyntaxError\u001b[0m\u001b[0;31m:\u001b[0m non-default argument follows default argument\n"
     ]
    }
   ],
   "source": [
    "def f2(param1=0, param2):\n",
    "    return param1 + param2*0.5"
   ]
  },
  {
   "cell_type": "markdown",
   "metadata": {},
   "source": [
    "Các cách sử dụng hàm sau đây là hợp lệ:"
   ]
  },
  {
   "cell_type": "code",
   "execution_count": 35,
   "metadata": {},
   "outputs": [
    {
     "name": "stdout",
     "output_type": "stream",
     "text": [
      "1.0\n",
      "2.0\n",
      "3.5\n"
     ]
    }
   ],
   "source": [
    "print(f(1))\n",
    "print(f(1,2))\n",
    "print(f(param2 = 3, param1 = 2))"
   ]
  },
  {
   "cell_type": "markdown",
   "metadata": {},
   "source": [
    "Như vậy khi gọi hàm, nếu không ghi rõ tên tham số truyền vào (cách 1, 2) thì các giá trị gán lần lượt cho các tham số theo thứ tự khi khai báo hàm. Nếu có ghi rõ (cách 3) thì không bắt buộc vị trí khai báo.\n",
    "\n",
    "### `lambda`\n",
    "Thay vì khai báo hàm `f` bằng cách ghi `def f(x):` có thể dùng phép gán cho những hàm đơn giản chỉ một dòng `return`."
   ]
  },
  {
   "cell_type": "code",
   "execution_count": 36,
   "metadata": {},
   "outputs": [
    {
     "name": "stdout",
     "output_type": "stream",
     "text": [
      "1.0\n",
      "2.0\n",
      "3.5\n"
     ]
    }
   ],
   "source": [
    "f = lambda param1, param2=0: param1 + param2*0.5\n",
    "print(f(1))\n",
    "print(f(1,2))\n",
    "print(f(param2=3, param1=2))"
   ]
  },
  {
   "cell_type": "markdown",
   "metadata": {},
   "source": [
    "## Cách tạo nhanh `list`"
   ]
  },
  {
   "cell_type": "markdown",
   "metadata": {},
   "source": [
    "Một `list` có thể được tạo nhanh thông qua dòng `for`. Chẳng hạn tôi muốn tạo một danh sách các số tự nhiên nhỏ hơn 10."
   ]
  },
  {
   "cell_type": "code",
   "execution_count": 37,
   "metadata": {},
   "outputs": [
    {
     "name": "stdout",
     "output_type": "stream",
     "text": [
      "[0, 1, 2, 3, 4, 5, 6, 7, 8, 9]\n"
     ]
    }
   ],
   "source": [
    "a = [x for x in range(0,10)]\n",
    "print(a)"
   ]
  },
  {
   "cell_type": "markdown",
   "metadata": {},
   "source": [
    "Hoặc có thể được tạo nhanh qua hàm `lambda`. Chẳng hạn tôi muốn tạo danh sách gồm bình phương của các số tự nhiên trong khoảng `[4; 8]`:"
   ]
  },
  {
   "cell_type": "code",
   "execution_count": 38,
   "metadata": {},
   "outputs": [
    {
     "name": "stdout",
     "output_type": "stream",
     "text": [
      "<map object at 0x10d4dbd30>\n",
      "[16, 25, 36, 49, 64]\n"
     ]
    }
   ],
   "source": [
    "a = map(lambda x: x**2, range(4, 9)) # trả về con trỏ\n",
    "print(a) # In ra địa chỉ\n",
    "print(list(a)) # Ép kiểu danh sách"
   ]
  },
  {
   "cell_type": "markdown",
   "metadata": {},
   "source": [
    "## `*` Lớp (`class`)"
   ]
  },
  {
   "cell_type": "markdown",
   "metadata": {},
   "source": [
    "Class là chức năng quan trọng khiến Python trở thành ngôn ngữ lập trình hướng đối tượng. Mỗi biến trong Python dù lớn hay nhỏ (`int`) đều là một đối tượng (object). Trong một đối tượng chứa các thuộc tính (attribute) đóng vai trò như biến để cung cấp thêm thông tin về đối tượng đó, và các phương pháp (method) đóng vai trò như hàm để thực thi một loạt các lệnh xử lý.\n",
    "\n",
    "Ví dụ khi mô hình hóa xe cứu thương vào lập trình, có thể biến nó thành một object với kiểu dữ liệu tên `Ambulance` được định nghĩa qua lớp cùng tên. Xe cứu thương có thể bao gồm các thông số như biển số xe (`string`) và vị trí hiện tại của xe (dựa theo mã tỉnh, `int`). Thao tác có thể đặt bên trong đối tượng này là \"di chuyển đến\" để hỗ trợ một xe cứu thương khác."
   ]
  },
  {
   "cell_type": "code",
   "execution_count": 39,
   "metadata": {
    "collapsed": true
   },
   "outputs": [],
   "source": [
    "class Ambulance:\n",
    "    def __init__(self, plate, city):\n",
    "        self.plate = plate\n",
    "        self.city = city\n",
    "    def assist(self, another_ambulance):\n",
    "        self.city = another_ambulance.city\n",
    "    def __str__(self):\n",
    "        return \"Ambulance {0} is in city {1}\"\\\n",
    "                .format(self.plate, self.city)"
   ]
  },
  {
   "cell_type": "markdown",
   "metadata": {},
   "source": [
    "Lưu ý rằng trong mỗi `class` thường có hàm `__init__` để khởi tạo một đối tượng. Trong ví dụ trên, hàm này có nhận tham số `plate` và gán vào `self.plate`. Có thể hình dung rằng `self.plate` là một biến `plate` là một thuộc tính (hay biến) thuộc lớp Ambulance, còn tham số `plate` được truyền vào hàm `__init__` là một biến độc lập chỉ có giá trị trong hàm này chứ không thuộc lớp `Ambulance`. Hàm `__str__` dùng để hướng dẫn cho câu lệnh `print` nên in ra thông tin gì khi người ta cố gắng in đối tượng này ra màn hình.\n",
    "\n",
    "Mọi hàm trong class đều phải có tham số `self`. Khi gọi hàm thuộc class không truyền giá trị vào tham số này."
   ]
  },
  {
   "cell_type": "code",
   "execution_count": 40,
   "metadata": {
    "scrolled": true
   },
   "outputs": [
    {
     "name": "stdout",
     "output_type": "stream",
     "text": [
      "Ambulance 65-B1-2017 is in city 32\n",
      "Ambulance 50-B2-11124 is in city 14\n",
      "Ambulance 50-B2-11124 is in city 32\n"
     ]
    }
   ],
   "source": [
    "amb1 = Ambulance(\"65-B1-2017\", 32)\n",
    "amb2 = Ambulance(\"50-B2-11124\", 14)\n",
    "print(amb1)\n",
    "print(amb2)\n",
    "amb2.assist(amb1)\n",
    "print(amb2)"
   ]
  },
  {
   "cell_type": "markdown",
   "metadata": {},
   "source": [
    "## Đọc và viết dữ liệu"
   ]
  },
  {
   "cell_type": "markdown",
   "metadata": {},
   "source": [
    "### Standard I/O"
   ]
  },
  {
   "cell_type": "code",
   "execution_count": 41,
   "metadata": {},
   "outputs": [
    {
     "name": "stdout",
     "output_type": "stream",
     "text": [
      "Give me a value: [1,2,   3]\n",
      "<class 'list'>\n",
      "[1, 2, 3]\n"
     ]
    }
   ],
   "source": [
    "var = eval(input(\"Give me a value: \"))\n",
    "print(type(var))\n",
    "print(var)"
   ]
  },
  {
   "cell_type": "code",
   "execution_count": 42,
   "metadata": {},
   "outputs": [
    {
     "name": "stdout",
     "output_type": "stream",
     "text": [
      "Give me a value: [1,2,    3]\n",
      "<class 'str'>\n",
      "[1,2,    3]\n"
     ]
    }
   ],
   "source": [
    "var = input(\"Give me a value: \")\n",
    "print(type(var))\n",
    "print(var)"
   ]
  },
  {
   "cell_type": "markdown",
   "metadata": {},
   "source": [
    "Hàm `input` chỉ có thể đọc trong một dòng mà thôi. Tức là nếu gặp ký tự `'\\n'` thì hàm sẽ dừng và trả kết quả cho biến dạng chuỗi.\n",
    "\n",
    "Nếu đặt hàm `input` trong hàm `eval` thì tương đương với việc bạn copy những gì bạn nhập paste vào ngay chỗ gán giá trị. Các bạn có thể thử nghiệm với nhiều kiểu dữ liệu khác nhau bằng hàm `eval`."
   ]
  },
  {
   "cell_type": "markdown",
   "metadata": {},
   "source": [
    "### File I/O"
   ]
  },
  {
   "cell_type": "code",
   "execution_count": 43,
   "metadata": {},
   "outputs": [],
   "source": [
    "with open(\"file_io.dat\", \"w\") as f:\n",
    "    f.write(\"Hello\")\n",
    "    f.write(\"!\\n\")\n",
    "    f.write(\"This is PiMA {0}\".format(2017))"
   ]
  },
  {
   "cell_type": "markdown",
   "metadata": {},
   "source": [
    "Hàm `write` chỉ nhận tham số dạng chuỗi. Để viết các kiểu dữ liệu khác, xem lại phần format chuỗi."
   ]
  },
  {
   "cell_type": "code",
   "execution_count": 44,
   "metadata": {
    "scrolled": true
   },
   "outputs": [
    {
     "name": "stdout",
     "output_type": "stream",
     "text": [
      "Hello!\n",
      "\n",
      "This is PiMA 2017\n"
     ]
    }
   ],
   "source": [
    "with open(\"file_io.dat\", \"r\") as f:\n",
    "    for line in f:\n",
    "        print(line)"
   ]
  }
 ],
 "metadata": {
  "kernelspec": {
   "display_name": "Python 3",
   "language": "python",
   "name": "python3"
  },
  "language_info": {
   "codemirror_mode": {
    "name": "ipython",
    "version": 3
   },
   "file_extension": ".py",
   "mimetype": "text/x-python",
   "name": "python",
   "nbconvert_exporter": "python",
   "pygments_lexer": "ipython3",
   "version": "3.6.0"
  }
 },
 "nbformat": 4,
 "nbformat_minor": 2
}
