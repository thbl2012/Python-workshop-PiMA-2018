{
 "cells": [
  {
   "cell_type": "code",
   "execution_count": null,
   "metadata": {
    "collapsed": true
   },
   "outputs": [],
   "source": [
    "%matplotlib inline"
   ]
  },
  {
   "cell_type": "code",
   "execution_count": null,
   "metadata": {
    "collapsed": true
   },
   "outputs": [],
   "source": [
    "import numpy as np\n",
    "import matplotlib\n",
    "import matplotlib.pyplot as plt"
   ]
  },
  {
   "cell_type": "markdown",
   "metadata": {},
   "source": [
    "### Cơ bản về mô phỏng dữ liệu"
   ]
  },
  {
   "cell_type": "markdown",
   "metadata": {},
   "source": [
    "Dân số TP. HCM từ 1996 đến 2013 được cung cấp trong file `hcmc_population.dat`."
   ]
  },
  {
   "cell_type": "code",
   "execution_count": null,
   "metadata": {},
   "outputs": [],
   "source": [
    "pop = np.genfromtxt('hcmc_population.dat')"
   ]
  },
  {
   "cell_type": "markdown",
   "metadata": {},
   "source": [
    "_Yêu cầu:_ Hãy tạo một mảng `year` (`np.array`) gồm các số từ 1996 đến 2013."
   ]
  },
  {
   "cell_type": "code",
   "execution_count": null,
   "metadata": {},
   "outputs": [],
   "source": [
    "# Code"
   ]
  },
  {
   "cell_type": "markdown",
   "metadata": {},
   "source": [
    "`subplots` là một đối tượng tạo ra một hình ảnh chứa một hoặc nhiều biểu đồ. Nó trả về một tuple gồm đối tượng toàn hình ảnh (`fig`) và các hệ trục tọa độ (`axes`). Tham khảo ví dụ sau:"
   ]
  },
  {
   "cell_type": "code",
   "execution_count": null,
   "metadata": {},
   "outputs": [],
   "source": [
    "fig, axes = plt.subplots()\n",
    "axes.plot(year, pop, 'bs') # Blue, square\n",
    "axes.set_xlabel('Năm')\n",
    "axes.set_ylabel('Triệu người')\n",
    "axes.set_title('Dân số TPHCM qua các năm');"
   ]
  },
  {
   "cell_type": "markdown",
   "metadata": {},
   "source": [
    "### `xticks` và `yticks`"
   ]
  },
  {
   "cell_type": "markdown",
   "metadata": {},
   "source": [
    "Nhưng trong ảnh trên, các năm lại không hiển thị theo số nguyên, nhìn mất tự nhiên. Chúng ta sẽ cấu hình lại để đánh dấu cứ hai năm một lần."
   ]
  },
  {
   "cell_type": "code",
   "execution_count": null,
   "metadata": {},
   "outputs": [],
   "source": [
    "axes.set_xticks(year[0::2])\n",
    "fig"
   ]
  },
  {
   "cell_type": "markdown",
   "metadata": {},
   "source": [
    "### Dùng hàm để vẽ"
   ]
  },
  {
   "cell_type": "markdown",
   "metadata": {},
   "source": [
    "_Yêu cầu:_ Gọi $r$ là tỉ lệ tăng dân số trung bình hằng năm từ 1996 đến 2013. Tính $r$."
   ]
  },
  {
   "cell_type": "code",
   "execution_count": null,
   "metadata": {
    "collapsed": true
   },
   "outputs": [],
   "source": [
    "def cal_avg_rate():\n",
    "    # Code\n",
    "    pass"
   ]
  },
  {
   "cell_type": "code",
   "execution_count": null,
   "metadata": {},
   "outputs": [],
   "source": [
    "r = 0.02\n",
    "def f(x):\n",
    "    return pop[0]*((1+r)**(x - 1995))\n",
    "\n",
    "fig, axes = plt.subplots()\n",
    "axes.plot(year, f(year), 'r-') # Red"
   ]
  },
  {
   "cell_type": "markdown",
   "metadata": {},
   "source": [
    "Đặt tên trục hoành, trục tung, tên biểu đồ cho phù hợp."
   ]
  },
  {
   "cell_type": "code",
   "execution_count": null,
   "metadata": {
    "collapsed": true
   },
   "outputs": [],
   "source": [
    "# Code"
   ]
  },
  {
   "cell_type": "markdown",
   "metadata": {},
   "source": [
    "### Bảng chú thích (Legend)"
   ]
  },
  {
   "cell_type": "markdown",
   "metadata": {},
   "source": [
    "Giờ chúng ta muốn so sánh kết quả này qua phép ngoại suy so với số liệu thực tế bằng cách đặt chồng hai đường này vào một hệ trục. Lúc này đòi hỏi mỗi lần `axes.plot(...)` phải đặt tham số `label`.\n",
    "\n",
    "Sau cùng dùng lệnh `axes.legend(loc=x)` để hiển thị bảng chú thích, trong đó `x` là vị trí của bảng chú thích trong hệ trục:\n",
    "- `loc=0`: `matplotlib` tự chọn vị trí tối ưu đặt bảng chú thích\n",
    "- `loc=1`: Góc phải trên\n",
    "- `loc=2`: Góc trái trên\n",
    "- `loc=3`: Góc trái dưới\n",
    "- `loc=4`: Góc phải dưới"
   ]
  },
  {
   "cell_type": "code",
   "execution_count": null,
   "metadata": {
    "scrolled": true
   },
   "outputs": [],
   "source": [
    "fig, ax = plt.subplots()\n",
    "ax.plot(year, f(year), 'r', label=\"Interpolation\") # Red\n",
    "ax.plot(year, pop, 'b', label=\"Thực tế\") # Blue\n",
    "ax.set_xlabel(\"Năm\")\n",
    "ax.set_ylabel(\"Triệu người\")\n",
    "ax.set_title(\"Dân số TPHCM qua các năm\");\n",
    "ax.set_xticks(year[0::2])\n",
    "ax.legend(loc=2)\n",
    "plt.show(fig)"
   ]
  },
  {
   "cell_type": "markdown",
   "metadata": {},
   "source": [
    "### Định dạng đường"
   ]
  },
  {
   "cell_type": "markdown",
   "metadata": {},
   "source": [
    "Trong ví dụ trên đưa ra hai loại đường là đỏ và xanh, được gọi trong hàm `axes.plot(...)`. Ngoài ra ta còn có thể truyền vào hàm này nhiều tham số khác:\n",
    "- `color`: có thể là `red`, `blue`, etc. hoặc `r`, `b`, etc. hoặc mã hex RGB của màu (ví dụ như `#FF3300`)\n",
    "- `linewidth`, hay `lw`: độ dày của đường, nhận một số thực\n",
    "- `linestyle`, hay `ls`: kiểu đường, các giá trị có thể là `-`, `--`, `-.`, `:`, `steps`\n",
    "- `marker`: ký hiệu điểm, có thể là `o`, `+`, `*`, `s`, etc.\n",
    "- https://matplotlib.org/api/_as_gen/matplotlib.axes.Axes.plot.html"
   ]
  },
  {
   "cell_type": "markdown",
   "metadata": {},
   "source": [
    "### Định dạng chữ"
   ]
  },
  {
   "cell_type": "code",
   "execution_count": null,
   "metadata": {
    "collapsed": true
   },
   "outputs": [],
   "source": [
    "# Default\n",
    "matplotlib.rcParams.update({'font.size': 12, 'font.family': 'sans', 'text.usetex': False})"
   ]
  },
  {
   "cell_type": "markdown",
   "metadata": {},
   "source": [
    "_Yêu cầu:_ Đặt `text.usetex` về `True`. Sau đó hãy thử vẽ đồ thị hàm $y=x^2$ và $y=x+40$ trên cùng một hình giới hạn trục hoành khoảng $[0;10]$. Đặt tên trục hoành, trục tung, và tiêu đề. Tạo bảng chú thích. Quan sát sự khác biệt về kiểu chữ."
   ]
  },
  {
   "cell_type": "code",
   "execution_count": null,
   "metadata": {
    "collapsed": true
   },
   "outputs": [],
   "source": [
    "# Code"
   ]
  },
  {
   "cell_type": "markdown",
   "metadata": {},
   "source": [
    "Một điểm đáng tiếc là nếu bạn đặt `text.usetex=true` thì tiêu đề của bạn không được chứa ký tự tiếng Việt."
   ]
  },
  {
   "cell_type": "markdown",
   "metadata": {},
   "source": [
    "### Hiển thị nhiều hệ trục trong một figure và các loại biểu đồ khác nhau"
   ]
  },
  {
   "cell_type": "markdown",
   "metadata": {},
   "source": [
    "Có thể tùy chỉnh `nrows` (số dòng), `ncols` (số cột), và `figsize` (kích thước ảnh).\n",
    "\n",
    "Nếu `nrows=1` thì `axes` sẽ là mảng một chiều, ngược lại `axes` là mảng hai chiều."
   ]
  },
  {
   "cell_type": "code",
   "execution_count": null,
   "metadata": {},
   "outputs": [],
   "source": [
    "fig, axes = plt.subplots(nrows=2, ncols=3, figsize=(12, 10))\n",
    "axes[0][0].scatter(x, np.random.randn(50))\n",
    "axes[0][0].grid(True)\n",
    "\n",
    "axes[0][1].hist(np.random.randn(50))\n",
    "\n",
    "axes[0][2].step(x[::10], x[::10]+40)\n",
    "\n",
    "axes[1][0].plot(x, x**2)\n",
    "\n",
    "axes[1][1].fill_between(x, 1.0/(x+1), x/5, color=\"green\", alpha=\"0.2\")\n",
    "\n",
    "axes[1][2].bar(x[::10], 2**x[::10], color=\"red\")\n",
    "\n",
    "plt.show(fig)"
   ]
  },
  {
   "cell_type": "markdown",
   "metadata": {},
   "source": [
    "Trên đây là những cái nhìn tổng quát về thư viện `matplotlib`, đủ để bạn tiếp cận và mô phỏng dữ liệu bằng Python. Trong quá trình nghiên cứu nếu xuất hiện thêm những nhu cầu mới bạn có thể Google."
   ]
  }
 ],
 "metadata": {
  "kernelspec": {
   "display_name": "Python 3",
   "language": "python",
   "name": "python3"
  },
  "language_info": {
   "codemirror_mode": {
    "name": "ipython",
    "version": 3
   },
   "file_extension": ".py",
   "mimetype": "text/x-python",
   "name": "python",
   "nbconvert_exporter": "python",
   "pygments_lexer": "ipython3",
   "version": "3.6.0"
  }
 },
 "nbformat": 4,
 "nbformat_minor": 2
}
