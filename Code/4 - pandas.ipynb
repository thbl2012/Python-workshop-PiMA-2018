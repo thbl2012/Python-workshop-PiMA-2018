{
 "cells": [
  {
   "cell_type": "markdown",
   "metadata": {
    "_cell_guid": "0905601f-5906-46bf-8ccd-a78bb48436f8",
    "_uuid": "c38028cab15933383d152b265dfbe880afcefb26"
   },
   "source": [
    "Dịch có chỉnh sửa từ notebook \"Pandas tutorial with interactive exercises\" của PistaK trên Kaggle."
   ]
  },
  {
   "cell_type": "markdown",
   "metadata": {
    "_cell_guid": "a9f53209-183d-49bb-b09e-ff3e17232571",
    "_uuid": "dff2d2597efd7a658d6f109b564114014c304e2c"
   },
   "source": [
    "# Phân tích dữ liệu với pandas"
   ]
  },
  {
   "cell_type": "code",
   "execution_count": null,
   "metadata": {
    "_cell_guid": "fe795f3a-d88b-469a-871f-5e33e7966812",
    "_uuid": "f090becd14b51f0b6e955c78a8d9e8f495fe6c71"
   },
   "outputs": [],
   "source": [
    "import os\n",
    "import numpy as np\n",
    "import pandas as pd\n",
    "from IPython.display import Image\n",
    "from matplotlib import pyplot as plt"
   ]
  },
  {
   "cell_type": "code",
   "execution_count": null,
   "metadata": {
    "_cell_guid": "b635225e-9f21-49fb-872e-0bc4f208e462",
    "_uuid": "d979bc68ea9080dbd8f5603c749daebe0c8e05d4"
   },
   "outputs": [],
   "source": [
    "%matplotlib inline \n",
    "pd.options.mode.chained_assignment = None  # default='warn'"
   ]
  },
  {
   "cell_type": "markdown",
   "metadata": {
    "_cell_guid": "23a9fe7d-cbf8-424a-9db4-1e1fe61d40bf",
    "_uuid": "e261dd21b2012304404537629d279246c292a037"
   },
   "source": [
    "Pokémon là một thương hiệu truyền thông điều hành bởi Tổng Công ty Pokémon, sự kết hợp giữa các công ty Nhật Bản gồm Nintendo, Game Freak và Creatures. Nó bao gồm trò chơi điện tử, thẻ bài, phim hoạt hình, phim điện ảnh, truyện tranh và đồ chơi."
   ]
  },
  {
   "cell_type": "code",
   "execution_count": null,
   "metadata": {
    "_cell_guid": "15d61180-feae-414e-afe6-a7955084c571",
    "_uuid": "5bdea0248a3e49e59164dda38e8726322c3d719d"
   },
   "outputs": [],
   "source": [
    "Image('http://cdn-static.denofgeek.com/sites/denofgeek/files/pokemon_4.jpg')"
   ]
  },
  {
   "cell_type": "markdown",
   "metadata": {
    "_cell_guid": "f5271ce5-b606-4ca1-9790-d35883597e76",
    "_uuid": "807bc61f8425453856ee5a41551c1ad3ad86cd57"
   },
   "source": [
    "### 1. Đọc dữ liệu vào bộ nhớ"
   ]
  },
  {
   "cell_type": "markdown",
   "metadata": {
    "_cell_guid": "c3a4c5a6-abec-48d4-9bd8-7ee5eda2c6b9",
    "_uuid": "554f781999cbb770526113ca5de73ddf22bd85c7"
   },
   "source": [
    "Giả sử chúng ta đã có sẵn dữ liệu trên đĩa, ta có thể đọc nó dưới dạng DataFrame của pandas, lưu trong bộ nhớ của Python."
   ]
  },
  {
   "cell_type": "code",
   "execution_count": null,
   "metadata": {
    "_cell_guid": "231489da-9869-4dfe-8e73-6e9203b6fdb3",
    "_uuid": "c9b6047cd1d839078bd2420db8cb0beee2abb700",
    "scrolled": true
   },
   "outputs": [],
   "source": [
    "# cho biết vị trí hiện hành trên máy tính\n",
    "os.getcwd()"
   ]
  },
  {
   "cell_type": "code",
   "execution_count": null,
   "metadata": {
    "_cell_guid": "5b970eb3-4e34-459a-8e3e-c3f76f370ca6",
    "_uuid": "b9dc1cd5f479e1c6070ace215ea9e9612c918bce"
   },
   "outputs": [],
   "source": [
    "# đọc file .csv và nhập dữ liệu vào bộ nhớ\n",
    "poke = pd.read_csv('../Data/Pokemon.csv')"
   ]
  },
  {
   "cell_type": "code",
   "execution_count": null,
   "metadata": {
    "_cell_guid": "ca307459-acf5-4327-8ad4-7e4e2da3ce35",
    "_uuid": "041b95c95f527a515a9cdbcb94982ca8c0c2d7cb"
   },
   "outputs": [],
   "source": [
    "# xem trước một số dòng đầu tiên của bộ dữ liệu\n",
    "poke.head()"
   ]
  },
  {
   "cell_type": "markdown",
   "metadata": {
    "_cell_guid": "1c9de4b8-e2d9-44a4-bf2c-e16f9a81f5c0",
    "_uuid": "dd451f4e434a01697a035c9649bb88d66ce60492"
   },
   "source": [
    "**Q: DataFrame của pandas là gì?**\n",
    "\n",
    "Nó là tập hợp các Series (cột) với độ dài bằng nhau và được tạo thành bởi các array (mảng) của numpy"
   ]
  },
  {
   "cell_type": "code",
   "execution_count": null,
   "metadata": {
    "_cell_guid": "af28260b-55ef-41bf-bcf8-13844f23bec3",
    "_uuid": "e9b20a393ec7822a94c0b9858c993fea4d095146"
   },
   "outputs": [],
   "source": [
    "# Dữ liệu của chúng ta lưu dưới kiểu dữ liệu DataFrame\n",
    "type(poke)"
   ]
  },
  {
   "cell_type": "code",
   "execution_count": null,
   "metadata": {
    "_cell_guid": "1da88a8e-0f05-42cb-9305-deb220879014",
    "_uuid": "116d171c53cee6409a32a7d1b2732e9984f1c7eb"
   },
   "outputs": [],
   "source": [
    "# Các cột có kiểu dữ liệu Series\n",
    "type(poke['Name'])"
   ]
  },
  {
   "cell_type": "code",
   "execution_count": null,
   "metadata": {
    "_cell_guid": "366c3de8-23c7-46ea-b614-15a84704022e",
    "_uuid": "7fcb9783791f2a4e78c3cda1faecf16e4d228f17"
   },
   "outputs": [],
   "source": [
    "# Dữ liệu trong các cột được lưu dưới dạng các mảng (array) numpy\n",
    "type(poke['Name'].values)"
   ]
  },
  {
   "cell_type": "code",
   "execution_count": null,
   "metadata": {
    "_cell_guid": "2911fa10-d275-4c84-b7ec-e8a33fae8c15",
    "_uuid": "44a89a93298f8cfa6c763820672c110f9721372e"
   },
   "outputs": [],
   "source": [
    "# Các phần tử mang giá trị cơ bản của python (str, int,...)\n",
    "type(poke['Name'].values[0])"
   ]
  },
  {
   "cell_type": "code",
   "execution_count": null,
   "metadata": {
    "_cell_guid": "15f60b69-fb67-49be-922b-afd56b3b8515",
    "_uuid": "2eaceb0bc3edc3eec626087dd153cf25211999cc"
   },
   "outputs": [],
   "source": [
    "poke['Name'].head()"
   ]
  },
  {
   "cell_type": "code",
   "execution_count": null,
   "metadata": {
    "_cell_guid": "0255f74d-2e0b-4d27-9962-6c6cfcf42fa7",
    "_uuid": "2a75679b8fd18477d2eb4910605234d7e9c0da67"
   },
   "outputs": [],
   "source": [
    "len(poke)"
   ]
  },
  {
   "cell_type": "code",
   "execution_count": null,
   "metadata": {
    "_cell_guid": "09495529-183e-4a5f-a949-bcdc14f245e3",
    "_uuid": "a095a19fe96f936aa8b50c50c1961f001b24beea"
   },
   "outputs": [],
   "source": [
    "len(poke) == len(poke['Name'])"
   ]
  },
  {
   "cell_type": "markdown",
   "metadata": {
    "_cell_guid": "840c629b-7cf9-4785-b04f-29426b3ee10a",
    "_uuid": "3d725b4cab10e4974ee6454015e6ad8deaa756ef"
   },
   "source": [
    "### 2. Khám phá bộ dữ liệu"
   ]
  },
  {
   "cell_type": "markdown",
   "metadata": {
    "_cell_guid": "24b332dd-a117-4e4e-9846-04ff50a7a03b",
    "_uuid": "136057c8317ed50f4b12875d29d0a83bf06a304f"
   },
   "source": [
    "Có gì trong bộ dữ liệu của chúng ta? Trong phần này, chúng ta sẽ đi tìm câu trả lời cho câu hỏi đó."
   ]
  },
  {
   "cell_type": "code",
   "execution_count": null,
   "metadata": {
    "_cell_guid": "56a72512-663a-4ad6-8689-9c26b436190b",
    "_uuid": "1ac2c586fd68e98be7700b0865eb64ebb6c83025",
    "scrolled": false
   },
   "outputs": [],
   "source": [
    "# Thông tin chung về các cột dữ liệu\n",
    "poke.info()"
   ]
  },
  {
   "cell_type": "code",
   "execution_count": null,
   "metadata": {
    "_cell_guid": "a27bd8ca-e3a8-40a4-b2f7-d6afc00b0ca2",
    "_uuid": "53353f48d15579e99ce2360daea695c0c15178d6"
   },
   "outputs": [],
   "source": [
    "# Kiểm tra các phần tử null (rỗng)\n",
    "poke.isnull().sum()"
   ]
  },
  {
   "cell_type": "code",
   "execution_count": null,
   "metadata": {
    "_cell_guid": "14041aec-9f29-4deb-8ffd-5d75ab8afb36",
    "_uuid": "d8c2420327198f8e20a0da7c39523d7d93052c39"
   },
   "outputs": [],
   "source": [
    "# Đặc trưng thống kê của các cột dữ liệu\n",
    "poke.describe()"
   ]
  },
  {
   "cell_type": "code",
   "execution_count": null,
   "metadata": {
    "_cell_guid": "83bdb8bd-4e79-4d11-9002-fab6bb6ca085",
    "_uuid": "e6d2ee2dd6e805b8f975d9bf14199e6b2ebad9da"
   },
   "outputs": [],
   "source": [
    "# Đếm số lượng các pokemon huyền thoại (Legendary)\n",
    "poke['Legendary'].sum()"
   ]
  },
  {
   "cell_type": "markdown",
   "metadata": {
    "_cell_guid": "409af361-ca25-4eb4-b739-f1561963a971",
    "_uuid": "27f47101660f6609c1bfa3699da55cb7603f2326"
   },
   "source": [
    "Q: Tại sao có được các con số này?"
   ]
  },
  {
   "cell_type": "markdown",
   "metadata": {
    "_cell_guid": "930f6e2d-9cfe-4dd5-9e21-28a9c1d93aeb",
    "_uuid": "d99f38e67ec391b8c4af2ac8ccbbe67e1383d175"
   },
   "source": [
    "#### Cắt lát và lọc"
   ]
  },
  {
   "cell_type": "code",
   "execution_count": null,
   "metadata": {
    "_cell_guid": "bd49959e-c7bb-4edc-b773-b003241b6bc0",
    "_uuid": "8cebae18fa91dcc95b7118fb0c6fb265ac0f20ef"
   },
   "outputs": [],
   "source": [
    "# Lọc luận lý (sử dụng biểu thức luận lý làm số chỉ của mảng)\n",
    "poke[poke['Name'] == 'Pikachu']"
   ]
  },
  {
   "cell_type": "code",
   "execution_count": null,
   "metadata": {
    "_cell_guid": "d0384624-1df3-406a-b013-c2ea725c5077",
    "_uuid": "b499658177179fc4a7c38f22b4b9f29faa42e3bf"
   },
   "outputs": [],
   "source": [
    "# Lọc luận lý kết hợp sử dụng loc, isin\n",
    "poke[poke.loc[:,'Name'].isin(['Pikachu', 'Bulbasaur', 'Charmander', 'Squirtle'])]"
   ]
  },
  {
   "cell_type": "code",
   "execution_count": null,
   "metadata": {
    "_cell_guid": "7dec1c8b-db3b-43d8-a292-8ebd12c37cbc",
    "_uuid": "d28559d738bdc8aa7ca9408a02e2da7ac588199b"
   },
   "outputs": [],
   "source": [
    "# Tạo DataFrame con\n",
    "image_poke = poke[poke.loc[:,'Name'].isin(['Pikachu', 'Bulbasaur', 'Charmander', 'Squirtle'])]\n",
    "image_poke"
   ]
  },
  {
   "cell_type": "markdown",
   "metadata": {
    "_cell_guid": "8613e730-5feb-4f42-90b0-57567dd52e2c",
    "_uuid": "03a1a390b08cb93f8c94809f0961ffd740a28500"
   },
   "source": [
    "### 3. Tiền xử lý dữ liệu"
   ]
  },
  {
   "cell_type": "markdown",
   "metadata": {
    "_cell_guid": "ce237c66-a731-44b8-95ba-df181fe3e085",
    "_uuid": "3938161e4f95e70207b8419b4f681aa31e53a2da"
   },
   "source": [
    "Với một bộ dữ liệu bất kì, liệu ta có thể sử dụng nó ngay hay cần tiền xử lý? Điền/xóa các giá trị rỗng (null), tạo cột mới với các tính toán, xóa các cột dư thừa, loại bỏ các cột chưa hoàn thiện, tạo ra các bộ dữ liệu con, đổi kiểu dữ liệu, sửa tên cột,... Tất cả đều nằm trong bước tiền xử lý dữ liệu trước khi phân tích dữ liệu."
   ]
  },
  {
   "cell_type": "markdown",
   "metadata": {
    "_cell_guid": "7cdcdbab-e00d-4d7e-85e9-58fc109c3ea3",
    "_uuid": "46eaf6453aac651294ff433c24094735bb32fecb"
   },
   "source": [
    "Đổi tên cột"
   ]
  },
  {
   "cell_type": "code",
   "execution_count": null,
   "metadata": {
    "_cell_guid": "b5037da9-4d00-4069-a332-63806471378d",
    "_uuid": "43f684cde170b4a18bc9295fab16272e1569976d"
   },
   "outputs": [],
   "source": [
    "poke = poke.rename(columns={'#':'Number'})\n",
    "poke.columns"
   ]
  },
  {
   "cell_type": "markdown",
   "metadata": {
    "_cell_guid": "bcfcbbf3-698b-496b-b822-f66398ec75ce",
    "_uuid": "6e25f5d41ef60ab71b5ee332ed9f150c08e71ba0"
   },
   "source": [
    "Tạo bộ dữ liệu con chỉ gồm các pokémon thường"
   ]
  },
  {
   "cell_type": "code",
   "execution_count": null,
   "metadata": {
    "_cell_guid": "3621677d-152a-4af1-8976-0224ab27a018",
    "_uuid": "641761f8f5ae4bc0ec0b846ca1c4df2ea67f7ef8"
   },
   "outputs": [],
   "source": [
    "# Pokémon thường tức là không phải huyền thoại ^^\n",
    "only_common = # điền vào chỗ trống\n",
    "only_common"
   ]
  },
  {
   "cell_type": "markdown",
   "metadata": {
    "_cell_guid": "2bc5f126-92d9-44b8-b46a-b6d644ab6634",
    "_uuid": "771456e938555a74fd2c73a30ea6e31e573b1807"
   },
   "source": [
    "Tạo bộ dữ liệu con gồm các pokémon không chứa 'Mega ' trong tên"
   ]
  },
  {
   "cell_type": "code",
   "execution_count": null,
   "metadata": {
    "_cell_guid": "9fcc60b9-a0e4-4866-a6ad-5159a8742aff",
    "_uuid": "7ed3aa1255097c6f2971d93f4269df21adca566e"
   },
   "outputs": [],
   "source": [
    "# Gợi ý 1: sử dụng .str để biến kiểu dữ liệu Series thành một mảng các chuỗi\n",
    "# Gợi ý 2: dùng phương thức .contains(s) của kiểu dữ liệu chuỗi để kiểm tra xem chuỗi có chứa chuỗi s hay không \n",
    "#          ví dụ: \"PiMA 2018\".constains(\"MA 20\") trả về True\n",
    "no_mega = # hoàn thành dòng lệnh này\n",
    "no_mega.head()"
   ]
  },
  {
   "cell_type": "markdown",
   "metadata": {
    "_cell_guid": "d016cc90-8201-44ab-9d48-a2a702992bb4",
    "_uuid": "aaf51aff3c60ea8b078ebc47f4217ec3675ae3b8"
   },
   "source": [
    "Phương thức **Group by** để gom nhóm dữ liệu"
   ]
  },
  {
   "cell_type": "code",
   "execution_count": null,
   "metadata": {
    "_cell_guid": "ace91f65-ac2c-422c-aa30-a5877120a91f",
    "_uuid": "dfc00563b90914f0d331a2d43a2143f8d5c3d6c7"
   },
   "outputs": [],
   "source": [
    "# kiểm tra liệu có hai dòng có cùng một số (Number) hay không\n",
    "poke['Number'].groupby(poke['Number']).count().sort_values(ascending=False)\n",
    "# thêm dấu ; ở cuối dòng lệnh để không hiển thị output ra màn hình. Thử xem!"
   ]
  },
  {
   "cell_type": "markdown",
   "metadata": {
    "_cell_guid": "feedf5e4-fb16-4fe1-b792-275528e6ae0c",
    "_uuid": "699f248c6e11595e59ef017278fbaed26ee0297a"
   },
   "source": [
    "Removing mega wasn't enough. Let's consider all pokemon with same number as duplicates, drop them and keep only the first one."
   ]
  },
  {
   "cell_type": "code",
   "execution_count": null,
   "metadata": {
    "_cell_guid": "2a72ea83-361c-4aec-9a30-876a32894432",
    "_uuid": "fa168d8c1e7480d8cbfa422e39e2a90dde464e29"
   },
   "outputs": [],
   "source": [
    "# loại bỏ các dòng bị trùng\n",
    "nodup_poke =  # gợi ý: sử dụng .drop_duplicates('Number', keep='first', inplace=False)\n",
    "nodup_poke.head()"
   ]
  },
  {
   "cell_type": "code",
   "execution_count": null,
   "metadata": {
    "_cell_guid": "62628414-cfc9-486a-a31f-a3b651bd3b60",
    "_uuid": "09dd186a87be756f305e7cbf41696c5f6edaad98"
   },
   "outputs": [],
   "source": [
    "# Khi loại bỏ, index (chỉ số) của các dòng không tự động cập nhật, cần đánh chỉ số lại (từ 0 tới n - 1)\n",
    "nodup_poke.reset_index(inplace=True, drop=True)\n",
    "nodup_poke.head()"
   ]
  },
  {
   "cell_type": "markdown",
   "metadata": {
    "_cell_guid": "df4efea3-e6b1-4410-9a4d-f92e2eb1f5e5",
    "_uuid": "de1df41cd03aad7b4739f41a39c176f0dfa18d46"
   },
   "source": [
    "Now that we have desired and clean dataset, let's move to another step."
   ]
  },
  {
   "cell_type": "markdown",
   "metadata": {
    "_cell_guid": "2a827d86-7f6e-47e4-82a5-c900a478f9b5",
    "_uuid": "65e336f60a5a4998e7cbff02022116b90d4e8d70"
   },
   "source": [
    "### 4. Xử lý dữ liệu"
   ]
  },
  {
   "cell_type": "markdown",
   "metadata": {
    "_cell_guid": "374d6c94-d7b4-4fc4-8a13-98525bc140a7",
    "_uuid": "8562cfbb116696a7eb00ff9e37a12579de586779"
   },
   "source": [
    "Trong bước này, chúng ta đã sẵn sàng để nghiên cứu trả lời các câu hỏi từ bộ dữ liệu. \n",
    "\n",
    "Một số câu hỏi ví dụ:\n",
    "- Hệ (fire, water,...) nào là thông dụng nhất?\n",
    "- Hệ nào là mạnh/yếu nhất?\n",
    "- 5 con pokemon mạnh nhất trong số các con pokemon thường?\n",
    "- Gen nào có các pokemon mạnh nhất về trung bình?\n",
    "- Pikachu mạnh thế nào so với các pokemon cùng hệ?"
   ]
  },
  {
   "cell_type": "code",
   "execution_count": null,
   "metadata": {
    "_cell_guid": "78c00ea8-ea18-4685-9f78-f0168a98dfdf",
    "_uuid": "e480201a026940c70ef3e6e356d6ab9f06394e52"
   },
   "outputs": [],
   "source": [
    "# Kiểm tra số lượng pokemon\n",
    "len(nodup_poke['Number'].unique())"
   ]
  },
  {
   "cell_type": "code",
   "execution_count": null,
   "metadata": {
    "_cell_guid": "a393e235-4ed6-4c58-a86f-b93807fa8b0d",
    "_uuid": "176761d2391ed3d7da0cab59c621e3fa46c820cf"
   },
   "outputs": [],
   "source": [
    "# Hệ nào là mạnh/yếu nhất?\n",
    "strongest_type_avg = nodup_poke[['Type 1','Total']].groupby(nodup_poke['Type 1']).mean().sort_values(by='Total', ascending=False)\n",
    "strongest_type_avg"
   ]
  },
  {
   "cell_type": "markdown",
   "metadata": {
    "_cell_guid": "867475e7-6e8d-4a94-8403-4662984e9e64",
    "_uuid": "84c44fb098ef8a69ea3a80fab3af58dc76a29f7e"
   },
   "source": [
    "Đoạn code dài ngoằng trên đã làm gì?"
   ]
  },
  {
   "cell_type": "markdown",
   "metadata": {
    "_cell_guid": "e90f66a9-52bb-4931-a1be-cd1f99e713e3",
    "_uuid": "1e0ed4b179a857437a6d96d85b37bc4d0e658dab"
   },
   "source": [
    "Thế còn đoạn dưới này?"
   ]
  },
  {
   "cell_type": "code",
   "execution_count": null,
   "metadata": {
    "_cell_guid": "16fb15ac-8ba3-47cb-906e-bd4921a99b28",
    "_uuid": "b14abf17b9aad16ca2a6ad15a9b64d5dfc30de46"
   },
   "outputs": [],
   "source": [
    "strongest_type_max = nodup_poke[['Total', 'Name', 'Type 1']].sort_values(\n",
    "                                by='Total', ascending=False).groupby('Type 1', as_index=False)\n",
    "strongest_type_max "
   ]
  },
  {
   "cell_type": "markdown",
   "metadata": {},
   "source": [
    "Tương tự, hãy trả lời các câu hỏi sau bằng đoạn mã"
   ]
  },
  {
   "cell_type": "code",
   "execution_count": null,
   "metadata": {
    "_cell_guid": "ac0e3cee-11b4-42e4-898c-28f1a086252f",
    "_uuid": "86a5925bef8fefde063ef1a4fb93495ea369463e"
   },
   "outputs": [],
   "source": [
    "# Hệ pokemon nào là thông dụng nhất?\n",
    "type_frequency = # điền vào đoạn sau\n",
    "type_frequency"
   ]
  },
  {
   "cell_type": "code",
   "execution_count": null,
   "metadata": {
    "_cell_guid": "9c58da46-e77c-4ffb-b2b4-03266ef7b14b",
    "_uuid": "5dd2cf949e9af7277d79d6e712d2076403d8bf5c"
   },
   "outputs": [],
   "source": [
    "# 5 pokemon thường mạnh nhất?\n",
    "top5_poke = # điền vào đoạn sau\n",
    "top5_poke"
   ]
  },
  {
   "cell_type": "code",
   "execution_count": null,
   "metadata": {
    "_cell_guid": "236378ac-a589-4265-9028-ef62f2095046",
    "_uuid": "029fb5580c0137a436885c409610144e1bfe1d5b"
   },
   "outputs": [],
   "source": [
    "# Gen nào có các pokemon mạnh nhất về trung bình?\n",
    "generation_comparison = # điền vào đoạn sau\n",
    "generation_comparison"
   ]
  },
  {
   "cell_type": "code",
   "execution_count": null,
   "metadata": {
    "_cell_guid": "9e1372eb-f372-4451-8679-0a021b8ba44e",
    "_uuid": "d340b93061e6b914bb0ce9cc97947037eeb9b749"
   },
   "outputs": [],
   "source": [
    "# Pikachu có hệ gì?\n",
    "pikachu_type = # điền vào đoạn sau\n",
    "pikachu_type"
   ]
  },
  {
   "cell_type": "code",
   "execution_count": null,
   "metadata": {
    "_cell_guid": "5732bfe7-0a75-405d-840a-95099bc1ee4a",
    "_uuid": "47390f344377f39cf4a1b12c2b512cd2d81e29a7"
   },
   "outputs": [],
   "source": [
    "# Pikachu mạnh thứ mấy so với pokemon cùng hệ?\n",
    "pikachu_rank = nodup_poke[nodup_poke['Type 1'] == pikachu_type].sort_values();\n",
    "pikachu_rank;\n",
    "# đoạn mã trên đã làm gì?"
   ]
  },
  {
   "cell_type": "code",
   "execution_count": null,
   "metadata": {
    "_cell_guid": "b92ab204-39c8-4e92-8cc0-dfcfc9d01236",
    "_uuid": "8846b44dcb75184d807f689506a8233da006d92f"
   },
   "outputs": [],
   "source": [
    "# đánh chỉ số lại\n",
    "pikachu_rank.reset_index(inplace=True)\n",
    "pikachu_rank"
   ]
  },
  {
   "cell_type": "markdown",
   "metadata": {
    "_cell_guid": "9d92d8d3-95e0-4c7a-8e7d-b47667cf1932",
    "_uuid": "b65e5ad26ebeab61fc7a6596e8ac03f06f34b6bb"
   },
   "source": [
    "### 5. Mô phỏng kết quả"
   ]
  },
  {
   "cell_type": "markdown",
   "metadata": {
    "_cell_guid": "f6dbfa45-39de-4909-a3bb-018071ad05f9",
    "_uuid": "9f9c3a680087eaee93ab3a9620fa9717d07b1c51"
   },
   "source": [
    "- Vẽ một histogram thông số Tổng của mọi pokemon thường\n",
    "- Vẽ một biểu đồ hộp (boxplot) của thông số Tổng theo hệ\n",
    "- Vẽ một biểu đồ hộp (boxplot) của thông số Tổng theo gen\n",
    "- Vẽ một biểu đồ cột (barplot) của thông số Tổng theo gen\n",
    "- Mô phỏng thông số của Pikachu so với các pokemon cùng hệ"
   ]
  },
  {
   "cell_type": "code",
   "execution_count": null,
   "metadata": {
    "_cell_guid": "20b383c7-7084-488b-8131-8027d73f8752",
    "_uuid": "34fe22f561e37909bd3239da530bb2d949898747"
   },
   "outputs": [],
   "source": [
    "# Vẽ một histogram thông số Tổng của mọi pokemon thường\n",
    "# Gợi ý: sử dụng .plot.hist(bins=15)"
   ]
  },
  {
   "cell_type": "code",
   "execution_count": null,
   "metadata": {
    "_cell_guid": "3be02890-72dc-46a5-9be0-c933b30eb98d",
    "_uuid": "03a790a34d56df0dcb81c08816bf454bc3983c44"
   },
   "outputs": [],
   "source": [
    "import matplotlib.cm as cm  \n",
    "\n",
    "# colormaps https://matplotlib.org/examples/color/colormaps_reference.html\n",
    "type_colors = cm.spring(np.linspace(0.05,0.95,len(type_frequency)))\n",
    "type_frequency.plot.bar(color=type_colors)"
   ]
  },
  {
   "cell_type": "code",
   "execution_count": null,
   "metadata": {
    "_cell_guid": "733474e4-d63c-4c59-8618-2e016cc6c17d",
    "_uuid": "d8b5b46406e6c7bfcee621f1452c5c91901df6fa"
   },
   "outputs": [],
   "source": [
    "# Vẽ một biểu đồ hộp (boxplot) của thông số Tổng theo hệ.\n",
    "nodup_poke.boxplot(column='Total', by='Type 1')"
   ]
  },
  {
   "cell_type": "code",
   "execution_count": null,
   "metadata": {},
   "outputs": [],
   "source": [
    "# Giả sử chỉ cần vẽ cho các hệ Bug, Grass, Fire.\n",
    "nodup_poke # hoàn thành đoạn mã này"
   ]
  },
  {
   "cell_type": "code",
   "execution_count": null,
   "metadata": {
    "_cell_guid": "00d83196-ad66-4587-9374-b564179ee98d",
    "_uuid": "13c7c42a575ada14ded7c8f07dc72fc8bce347d5"
   },
   "outputs": [],
   "source": [
    "# Vẽ một biểu đồ hộp (boxplot) của thông số Tổng theo gen\n",
    "nodup_poke # hoàn thành đoạn mã này"
   ]
  },
  {
   "cell_type": "code",
   "execution_count": null,
   "metadata": {
    "_cell_guid": "7236e3cc-ff70-41be-8760-206f48e1edbd",
    "_uuid": "b1c2a1ff74449bffc738f50747ca3abefd1ab145"
   },
   "outputs": [],
   "source": [
    "# Vẽ một biểu đồ cột (barplot) của thông số Tổng theo gen\n",
    "generation_comparison['Generation'] = generation_comparison['Generation'].astype('str')\n",
    "gen_colors = cm.summer(np.linspace(0.05,0.95,len(generation_comparison)))\n",
    "generation_comparison.plot.bar(x='Generation',color=gen_colors, title='Comparison of avg total stats between pokemon generations')"
   ]
  },
  {
   "cell_type": "code",
   "execution_count": null,
   "metadata": {
    "_cell_guid": "79204a21-a3a0-4dfb-908e-14ae8d89cfb2",
    "_uuid": "53b920a6afc03ef66f784bb4f345ce02ea6e851f"
   },
   "outputs": [],
   "source": [
    "# Vẽ biểu đồ cột (barplot) độ mạnh Tổng của pokemon mạnh nhất trong từng hệ\n"
   ]
  },
  {
   "cell_type": "code",
   "execution_count": null,
   "metadata": {
    "_cell_guid": "67d0ec8f-b558-404c-98f3-839abe152b5c",
    "_uuid": "d88ac1fe161dbeb1f31f95c3ad1afa71e25da91c"
   },
   "outputs": [],
   "source": [
    "# Biểu diễn thông số của Pikachu so với các pokemon cùng hệ\n",
    "pikachu_rank['color'] = 'Grey'\n",
    "pikachu_rank['size'] = 30\n",
    "pikachu_rank['color'][pikachu_rank['Name']=='Pikachu']='Yellow'\n",
    "pikachu_rank['size'][pikachu_rank['Name']=='Pikachu']=100\n",
    "pika_plot = pikachu_rank.plot.scatter(x='Generation', y='Total', \n",
    "                                      c=pikachu_rank['color'], s=pikachu_rank['size'],\n",
    "                          title='Pikachu vs other electric pokemon')"
   ]
  },
  {
   "cell_type": "markdown",
   "metadata": {
    "_cell_guid": "f4e6824f-f835-4a80-a5e6-86e0137f250a",
    "_uuid": "b8c2578d87fbab979b355de5622b020f579ca05d"
   },
   "source": [
    "Lưu biểu đồ dưới dạng png"
   ]
  },
  {
   "cell_type": "code",
   "execution_count": null,
   "metadata": {
    "_cell_guid": "b9c33db2-5572-4606-a23f-270029c03726",
    "_uuid": "51503c9d61c38aab848e8fd8d269bd0fb1ec1ef3",
    "scrolled": true
   },
   "outputs": [],
   "source": [
    "fig = pika_plot.get_figure()\n",
    "fig.savefig('pika_plot.png')"
   ]
  }
 ],
 "metadata": {
  "kernelspec": {
   "display_name": "Python 3",
   "language": "python",
   "name": "python3"
  },
  "language_info": {
   "codemirror_mode": {
    "name": "ipython",
    "version": 3
   },
   "file_extension": ".py",
   "mimetype": "text/x-python",
   "name": "python",
   "nbconvert_exporter": "python",
   "pygments_lexer": "ipython3",
   "version": "3.6.6"
  }
 },
 "nbformat": 4,
 "nbformat_minor": 1
}
