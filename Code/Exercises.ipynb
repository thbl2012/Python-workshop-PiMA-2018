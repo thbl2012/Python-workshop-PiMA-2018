{
 "cells": [
  {
   "cell_type": "markdown",
   "metadata": {},
   "source": [
    "# Bài tập"
   ]
  },
  {
   "cell_type": "markdown",
   "metadata": {},
   "source": [
    "## Lập trình cơ bản"
   ]
  },
  {
   "cell_type": "markdown",
   "metadata": {},
   "source": [
    "1. Viết hàm nhận vào một mảng và trả về giá trị lớn nhất của mảng"
   ]
  },
  {
   "cell_type": "code",
   "execution_count": null,
   "metadata": {},
   "outputs": [],
   "source": [
    "def array_max:\n",
    "    # Your code goes here\n",
    "    \n",
    "a = [5, 9, 6, 2, 4]\n",
    "print(array_max(a))"
   ]
  },
  {
   "cell_type": "markdown",
   "metadata": {},
   "source": [
    "2. Viết hàm nhận vào một mảng và trả về kì vọng và phương sai của mảng"
   ]
  },
  {
   "cell_type": "code",
   "execution_count": null,
   "metadata": {},
   "outputs": [],
   "source": [
    "def array_u_sigma:\n",
    "    # your code goes here\n",
    "    \n",
    "a = [5, 9, 6, 2, 4]\n",
    "print(array_u_sigma(a))"
   ]
  },
  {
   "cell_type": "markdown",
   "metadata": {},
   "source": [
    "3. Viết hàm nhận vào hai ma trận A, B kích thước $m \\times n$ và $n \\times p$. Trả về tích hai ma trận."
   ]
  },
  {
   "cell_type": "code",
   "execution_count": null,
   "metadata": {},
   "outputs": [],
   "source": [
    "def matrix_mul:\n",
    "    # your code goes here\n",
    "    \n",
    "A = [ [1, 2, 0], [5, 7, 4] ]\n",
    "B = [ [3, 2], [9, 0], [6, 1]]\n",
    "print(matrix_mul(A, B))"
   ]
  },
  {
   "cell_type": "markdown",
   "metadata": {},
   "source": [
    "4. Viết hàm nhận vào hai chuỗi thời gian t1, t2 dạng 'hh:mm:ss'. Biết t1 < t2, tính khoảng cách (giây) giữa chúng. Dữ liệu nhập vào luôn hợp lệ."
   ]
  },
  {
   "cell_type": "code",
   "execution_count": null,
   "metadata": {},
   "outputs": [],
   "source": [
    "def time_apart:\n",
    "    # your code goes here\n",
    "    \n",
    "t1 = '06:48:12'\n",
    "t2 = '13:16:55'\n",
    "print(time_apart(t1, t2))"
   ]
  },
  {
   "cell_type": "markdown",
   "metadata": {},
   "source": [
    "5. Viết hàm nhận vào ba số nguyên a, b, c (a có thể bằng 0) trả về số nghiệm của phương trình $ax^4 + bx^2 + c = 0$."
   ]
  },
  {
   "cell_type": "code",
   "execution_count": null,
   "metadata": {},
   "outputs": [],
   "source": [
    "def num_of_roots:\n",
    "    # your code goes here\n",
    "\n",
    "a = 1\n",
    "b = 5\n",
    "c = 4\n",
    "print(num_of_roots(a,b,c))"
   ]
  },
  {
   "cell_type": "markdown",
   "metadata": {},
   "source": [
    "6. Viết hàm nhận số nguyên dương n, tính giá trị biểu thức $0! + 1! + 2! + ... + n!$"
   ]
  },
  {
   "cell_type": "code",
   "execution_count": null,
   "metadata": {},
   "outputs": [],
   "source": [
    "def sum_of_factorial:\n",
    "    # your code goes here\n",
    "\n",
    "n = 6\n",
    "print(sum_of_factorial(n))"
   ]
  },
  {
   "cell_type": "markdown",
   "metadata": {},
   "source": [
    "7. Viết hàm nhận ma trận vuông A, số nguyên dương n. Tính giá trị A^n. Hãy viết bằng hai cách khác nhau."
   ]
  },
  {
   "cell_type": "code",
   "execution_count": null,
   "metadata": {},
   "outputs": [],
   "source": [
    "def matrix_exp:\n",
    "    # your code goes here\n",
    "    \n",
    "def matrix_exp_better:\n",
    "    # your code goes here\n",
    "\n",
    "A = [ [3, -4], [1, -1] ]\n",
    "n = 6\n",
    "print(matrix_exp(A, n))\n",
    "print(matrix_exp_better(A, n))"
   ]
  },
  {
   "cell_type": "markdown",
   "metadata": {},
   "source": [
    "8. Dãy Collatz được phát biểu như sau: bắt đầu từ số nguyên dương n bất kì, tại mỗi bước, nếu số đang xét là chẵn, chia đôi nó, nếu số đang xét là lẻ, gấp 3 nó và cộng 1. <br> Ví dụ: bắt đầu từ n = 9 -> 28 -> 14 -> 7 -> 22 -> 11 -> 32 -> 16 -> 8 -> 4 -> 2 -> 1 -> ... <br> Viết hàm nhận vào hai số nguyên dương n và m, trả về một mảng gồm m số đầu của dãy Collatz bắt đầu từ n. <br> Ví dụ: n = 9, m = 5 -> [9, 28, 14, 7, 22]."
   ]
  },
  {
   "cell_type": "code",
   "execution_count": null,
   "metadata": {},
   "outputs": [],
   "source": [
    "def collatz:\n",
    "    # your code goes here\n",
    "    \n",
    "n = 9\n",
    "m = 5\n",
    "print(collatz(n, m))"
   ]
  },
  {
   "cell_type": "markdown",
   "metadata": {},
   "source": [
    "9. Viết hàm nhận vào số nguyên n, trả về mảng tất cả số nguyên tố không quá n."
   ]
  },
  {
   "cell_type": "code",
   "execution_count": null,
   "metadata": {},
   "outputs": [],
   "source": [
    "def prime_check:\n",
    "    # your code goes here\n",
    "\n",
    "def prime_list:\n",
    "    # your code goes here\n",
    "    \n",
    "n = 7\n",
    "print(prime_list(n))"
   ]
  },
  {
   "cell_type": "markdown",
   "metadata": {},
   "source": [
    "10. Viết hàm nhận vào hai số nguyên dương a và b, trả về ước chung lớn nhất và bội chung nhỏ nhất của a và b."
   ]
  },
  {
   "cell_type": "code",
   "execution_count": null,
   "metadata": {},
   "outputs": [],
   "source": [
    "def ucln:\n",
    "    # your code goes here\n",
    "\n",
    "def bcnn:\n",
    "    # your code goes here\n",
    "\n",
    "a = 5\n",
    "b = 15\n",
    "print(ucln(a, b))\n",
    "print(bcnn(a, b))"
   ]
  },
  {
   "cell_type": "markdown",
   "metadata": {},
   "source": [
    "11. Viết hàm đọc số điện thoại, nhận vào một chuỗi số (vd: '0142'), trả về chuỗi gồm cách đọc từng kí số (vd: 'khong mot bon hai')"
   ]
  },
  {
   "cell_type": "code",
   "execution_count": null,
   "metadata": {},
   "outputs": [],
   "source": [
    "def phone_number:\n",
    "    # your code goes here\n",
    "    \n",
    "s = '0142'\n",
    "print(phone_number(s))"
   ]
  },
  {
   "cell_type": "markdown",
   "metadata": {},
   "source": [
    "12. Viết hàm chèn chuỗi t ở giữa chuỗi s tại vị trí i. <br> Ví dụ: s = 'Pi18', t = 'MA 20', i = 2 -> 'PiMA 2018'"
   ]
  },
  {
   "cell_type": "code",
   "execution_count": null,
   "metadata": {},
   "outputs": [],
   "source": [
    "def insert_between:\n",
    "    # your code goes here\n",
    "\n",
    "s = 'Pi18'\n",
    "t = 'MA 20'\n",
    "i = 2\n",
    "print(insert_between(s, t, i))"
   ]
  },
  {
   "cell_type": "markdown",
   "metadata": {},
   "source": [
    "13. Viết hàm loại bỏ các khoảng trắng dư thừa (khoảng trắng ở đầu, ở cuối, nhiều khoảng trắng giữa các từ thay thành 1 khoảng trắng). Ví dụ: '  PiMA       2018 ' -> 'PiMA 2018'."
   ]
  },
  {
   "cell_type": "code",
   "execution_count": null,
   "metadata": {},
   "outputs": [],
   "source": [
    "def remove_space:\n",
    "    # your code goes here\n",
    "    \n",
    "s = '  PiMA       2018 '\n",
    "print(remove_space(s))"
   ]
  },
  {
   "cell_type": "markdown",
   "metadata": {},
   "source": [
    "14. Viết hàm nhận vào đường dẫn đến một tập tin .txt. Trong tập tin đó là một chuỗi s. Thực hiện mã hóa chuỗi s và lưu kết quả ở tập tin 'encrypted.txt'. Phương pháp mã hóa là mã hóa Caesar như sau: với mỗi ký tự, dịch phải k đơn vị được ký tự mã hóa, xoay vòng nếu vượt quá 'z' (ví dụ: 'a' dịch phải k = 3 là 'd', 'z' dịch phải k = 1 là 'a')"
   ]
  },
  {
   "cell_type": "code",
   "execution_count": null,
   "metadata": {},
   "outputs": [],
   "source": [
    "def caesar:\n",
    "    # your code goes here\n",
    "    \n",
    "dir = 'message.txt'\n",
    "k = 5\n",
    "caesar(dir, k)"
   ]
  }
 ],
 "metadata": {
  "kernelspec": {
   "display_name": "Python 3",
   "language": "python",
   "name": "python3"
  },
  "language_info": {
   "codemirror_mode": {
    "name": "ipython",
    "version": 3
   },
   "file_extension": ".py",
   "mimetype": "text/x-python",
   "name": "python",
   "nbconvert_exporter": "python",
   "pygments_lexer": "ipython3",
   "version": "3.6.6"
  }
 },
 "nbformat": 4,
 "nbformat_minor": 2
}
